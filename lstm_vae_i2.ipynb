{
 "cells": [
  {
   "cell_type": "code",
   "execution_count": 1,
   "metadata": {},
   "outputs": [],
   "source": [
    "# Generic imports\n",
    "from __future__ import print_function\n",
    "%matplotlib inline\n",
    "import matplotlib.pyplot as plt\n",
    "import numpy as np\n",
    "#import pandas as pd\n",
    "import math, random, re\n",
    "import time\n",
    "import pickle\n",
    "from Bio import SeqIO"
   ]
  },
  {
   "cell_type": "code",
   "execution_count": 12,
   "metadata": {},
   "outputs": [],
   "source": [
    "#Machine learning/Stats imports \n",
    "from scipy.stats import norm\n",
    "from scipy.stats import spearmanr,pearsonr\n",
    "from sklearn.preprocessing import normalize\n",
    "from sklearn.model_selection import train_test_split\n",
    "import tensorflow as tf\n",
    "import keras\n",
    "from keras.layers import Input, Dense, Bidirectional, RepeatVector, Reshape, LSTM\n",
    "from keras.models import Model\n",
    "from keras import regularizers\n",
    "from keras.layers import Input, Dense, Lambda, Dropout,Activation, TimeDistributed\n",
    "from keras import backend as K\n",
    "from keras import objectives\n",
    "from keras.callbacks import EarlyStopping\n",
    "from keras.layers.normalization import BatchNormalization\n",
    "from keras import regularizers\n",
    "\n",
    "from IPython.display import SVG\n",
    "from keras.utils.vis_utils import model_to_dot, plot_model"
   ]
  },
  {
   "cell_type": "code",
   "execution_count": 3,
   "metadata": {},
   "outputs": [],
   "source": [
    "# Amino acid alphabet:\n",
    "AA_ORDER = 'ACDEFGHIKLMNPQRSTVWY-'\n",
    "AA_LIST = list(AA_ORDER)\n",
    "AA_DICT = {c:i for i, c in enumerate(AA_LIST)}\n",
    "AA_DICT_REV = {i:c for i, c in enumerate(AA_LIST)}\n",
    "AA_SET = set(AA_LIST)"
   ]
  },
  {
   "cell_type": "code",
   "execution_count": 4,
   "metadata": {},
   "outputs": [],
   "source": [
    "def filter_seq(seq):\n",
    "    '''Filter away ambiguous character containing sequences.'''\n",
    "    if set(list(seq)) <= AA_SET:\n",
    "        return(seq)\n",
    "    else:\n",
    "        return(None)"
   ]
  },
  {
   "cell_type": "code",
   "execution_count": 5,
   "metadata": {},
   "outputs": [],
   "source": [
    "def seq2onehot(seq_list):\n",
    "    '''\n",
    "    Translate a list of amino acid sequences into a 3D tensor with onehot encodings.\n",
    "    NB. all sequences must be of equal length.\n",
    "    '''\n",
    "    seqlen = len(seq_list[0])\n",
    "    assert(not [True for s in seq_list if len(s) != seqlen])\n",
    "    onehot_tensor = np.zeros((len(seq_list), seqlen, len(AA_SET)))\n",
    "    for i, seq in enumerate(seq_list):\n",
    "        for j, a in enumerate(seq):\n",
    "            onehot_tensor[i][j][AA_DICT[a]] = 1\n",
    "    return(onehot_tensor)"
   ]
  },
  {
   "cell_type": "code",
   "execution_count": 6,
   "metadata": {},
   "outputs": [],
   "source": [
    "def onehot2seq(onehot_tensor):\n",
    "    '''\n",
    "    Translate a 3D tensor with onehot encodings to a list of amino acid sequences.\n",
    "    '''\n",
    "    seq_list = list()\n",
    "    for i in range(onehot_tensor.shape[0]):\n",
    "        seq = list()\n",
    "        for j in range(onehot_tensor.shape[1]):\n",
    "            seq.append(AA_DICT_REV[onehot_tensor[i][j].argmax()])\n",
    "        seq_list.append(''.join(seq))\n",
    "    return(seq_list)"
   ]
  },
  {
   "cell_type": "code",
   "execution_count": null,
   "metadata": {},
   "outputs": [],
   "source": []
  },
  {
   "cell_type": "code",
   "execution_count": 8,
   "metadata": {},
   "outputs": [
    {
     "name": "stdout",
     "output_type": "stream",
     "text": [
      "Input data has 1000 sequences.\n"
     ]
    }
   ],
   "source": [
    "# Read in some sequences:\n",
    "MAX_SEQS = 1000\n",
    "fnam = '../spurf_heavy_chain_AHo.fasta'\n",
    "seq_list = list()\n",
    "for i, record in enumerate(SeqIO.parse(fnam, 'fasta')):\n",
    "    if i >= MAX_SEQS:\n",
    "        break\n",
    "    seq_list.append(str(record.seq))\n",
    "print('Input data has {} sequences.'.format(len(seq_list)))"
   ]
  },
  {
   "cell_type": "code",
   "execution_count": 9,
   "metadata": {},
   "outputs": [
    {
     "name": "stdout",
     "output_type": "stream",
     "text": [
      "Onehot encoded tensor has this shape: (1000, 149, 21)\n"
     ]
    }
   ],
   "source": [
    "# Transform to onehot:\n",
    "onehot_tensor = seq2onehot(seq_list)\n",
    "print('Onehot encoded tensor has this shape: {}'.format(onehot_tensor.shape))"
   ]
  },
  {
   "cell_type": "code",
   "execution_count": null,
   "metadata": {},
   "outputs": [],
   "source": []
  },
  {
   "cell_type": "code",
   "execution_count": 10,
   "metadata": {},
   "outputs": [],
   "source": [
    "# Various network definitions:\n",
    "batch_size = 100\n",
    "input_shape = onehot_tensor.shape[1:]\n",
    "input_total_dim = np.array(input_shape).prod()\n",
    "\n",
    "latent_dim = 10\n",
    "lstm_nodes = 149\n",
    "#lstm_nodes = 30\n",
    "\n",
    "epsilon_std = 1.0\n",
    "def sampling(args):\n",
    "    '''This function draws a sample from the multinomial defined by the latent variables.'''\n",
    "    z_mean, z_log_var = args\n",
    "    epsilon = K.random_normal(shape=(batch_size, latent_dim), mean=0.0, stddev=epsilon_std)\n",
    "    return(z_mean + K.exp(z_log_var / 2) * epsilon)\n",
    "\n",
    "def vae_loss(io_encoder, io_decoder):\n",
    "    '''The loss function is the sum of the cross-entropy and KL divergence.'''\n",
    "    # Notice that \"objectives.categorical_crossentropy(io_encoder, io_decoder)\" is a vector so it is averaged:\n",
    "    xent_loss = input_total_dim * K.mean(objectives.categorical_crossentropy(io_encoder, io_decoder))\n",
    "    kl_loss = - 0.5 * K.sum(1 + z_log_var - K.square(z_mean) - K.exp(z_log_var), axis=-1)\n",
    "    return(xent_loss + kl_loss)"
   ]
  },
  {
   "cell_type": "code",
   "execution_count": 16,
   "metadata": {},
   "outputs": [
    {
     "name": "stdout",
     "output_type": "stream",
     "text": [
      "_________________________________________________________________\n",
      "Layer (type)                 Output Shape              Param #   \n",
      "=================================================================\n",
      "input_5 (InputLayer)         (None, 149, 21)           0         \n",
      "_________________________________________________________________\n",
      "bidirectional_9 (Bidirection (None, 149, 298)          203832    \n",
      "_________________________________________________________________\n",
      "bidirectional_10 (Bidirectio (None, 298)               534016    \n",
      "_________________________________________________________________\n",
      "dense_9 (Dense)              (None, 10)                2990      \n",
      "=================================================================\n",
      "Total params: 740,838\n",
      "Trainable params: 740,838\n",
      "Non-trainable params: 0\n",
      "_________________________________________________________________\n"
     ]
    },
    {
     "data": {
      "image/svg+xml": [
       "<svg height=\"308pt\" viewBox=\"0.00 0.00 462.00 308.00\" width=\"462pt\" xmlns=\"http://www.w3.org/2000/svg\" xmlns:xlink=\"http://www.w3.org/1999/xlink\">\n",
       "<g class=\"graph\" id=\"graph0\" transform=\"scale(1 1) rotate(0) translate(4 304)\">\n",
       "<title>G</title>\n",
       "<polygon fill=\"white\" points=\"-4,4 -4,-304 458,-304 458,4 -4,4\" stroke=\"none\"/>\n",
       "<!-- 140486067006320 -->\n",
       "<g class=\"node\" id=\"node1\"><title>140486067006320</title>\n",
       "<polygon fill=\"none\" points=\"84,-253 84,-299 370,-299 370,-253 84,-253\" stroke=\"black\"/>\n",
       "<text font-family=\"Times,serif\" font-size=\"14.00\" text-anchor=\"middle\" x=\"147.5\" y=\"-272.3\">input_5: InputLayer</text>\n",
       "<polyline fill=\"none\" points=\"211,-253 211,-299 \" stroke=\"black\"/>\n",
       "<text font-family=\"Times,serif\" font-size=\"14.00\" text-anchor=\"middle\" x=\"239\" y=\"-283.8\">input:</text>\n",
       "<polyline fill=\"none\" points=\"211,-276 267,-276 \" stroke=\"black\"/>\n",
       "<text font-family=\"Times,serif\" font-size=\"14.00\" text-anchor=\"middle\" x=\"239\" y=\"-260.8\">output:</text>\n",
       "<polyline fill=\"none\" points=\"267,-253 267,-299 \" stroke=\"black\"/>\n",
       "<text font-family=\"Times,serif\" font-size=\"14.00\" text-anchor=\"middle\" x=\"318.5\" y=\"-283.8\">(None, 149, 21)</text>\n",
       "<polyline fill=\"none\" points=\"267,-276 370,-276 \" stroke=\"black\"/>\n",
       "<text font-family=\"Times,serif\" font-size=\"14.00\" text-anchor=\"middle\" x=\"318.5\" y=\"-260.8\">(None, 149, 21)</text>\n",
       "</g>\n",
       "<!-- 140486183341192 -->\n",
       "<g class=\"node\" id=\"node2\"><title>140486183341192</title>\n",
       "<polygon fill=\"none\" points=\"6.5,-169 6.5,-215 447.5,-215 447.5,-169 6.5,-169\" stroke=\"black\"/>\n",
       "<text font-family=\"Times,serif\" font-size=\"14.00\" text-anchor=\"middle\" x=\"144\" y=\"-188.3\">bidirectional_9(lstm_9): Bidirectional(LSTM)</text>\n",
       "<polyline fill=\"none\" points=\"281.5,-169 281.5,-215 \" stroke=\"black\"/>\n",
       "<text font-family=\"Times,serif\" font-size=\"14.00\" text-anchor=\"middle\" x=\"309.5\" y=\"-199.8\">input:</text>\n",
       "<polyline fill=\"none\" points=\"281.5,-192 337.5,-192 \" stroke=\"black\"/>\n",
       "<text font-family=\"Times,serif\" font-size=\"14.00\" text-anchor=\"middle\" x=\"309.5\" y=\"-176.8\">output:</text>\n",
       "<polyline fill=\"none\" points=\"337.5,-169 337.5,-215 \" stroke=\"black\"/>\n",
       "<text font-family=\"Times,serif\" font-size=\"14.00\" text-anchor=\"middle\" x=\"392.5\" y=\"-199.8\">(None, 149, 21)</text>\n",
       "<polyline fill=\"none\" points=\"337.5,-192 447.5,-192 \" stroke=\"black\"/>\n",
       "<text font-family=\"Times,serif\" font-size=\"14.00\" text-anchor=\"middle\" x=\"392.5\" y=\"-176.8\">(None, 149, 298)</text>\n",
       "</g>\n",
       "<!-- 140486067006320&#45;&gt;140486183341192 -->\n",
       "<g class=\"edge\" id=\"edge1\"><title>140486067006320-&gt;140486183341192</title>\n",
       "<path d=\"M227,-252.593C227,-244.118 227,-234.297 227,-225.104\" fill=\"none\" stroke=\"black\"/>\n",
       "<polygon fill=\"black\" points=\"230.5,-225.096 227,-215.096 223.5,-225.096 230.5,-225.096\" stroke=\"black\"/>\n",
       "</g>\n",
       "<!-- 140486167156552 -->\n",
       "<g class=\"node\" id=\"node3\"><title>140486167156552</title>\n",
       "<polygon fill=\"none\" points=\"-0.5,-85 -0.5,-131 454.5,-131 454.5,-85 -0.5,-85\" stroke=\"black\"/>\n",
       "<text font-family=\"Times,serif\" font-size=\"14.00\" text-anchor=\"middle\" x=\"144\" y=\"-104.3\">bidirectional_10(lstm_10): Bidirectional(LSTM)</text>\n",
       "<polyline fill=\"none\" points=\"288.5,-85 288.5,-131 \" stroke=\"black\"/>\n",
       "<text font-family=\"Times,serif\" font-size=\"14.00\" text-anchor=\"middle\" x=\"316.5\" y=\"-115.8\">input:</text>\n",
       "<polyline fill=\"none\" points=\"288.5,-108 344.5,-108 \" stroke=\"black\"/>\n",
       "<text font-family=\"Times,serif\" font-size=\"14.00\" text-anchor=\"middle\" x=\"316.5\" y=\"-92.8\">output:</text>\n",
       "<polyline fill=\"none\" points=\"344.5,-85 344.5,-131 \" stroke=\"black\"/>\n",
       "<text font-family=\"Times,serif\" font-size=\"14.00\" text-anchor=\"middle\" x=\"399.5\" y=\"-115.8\">(None, 149, 298)</text>\n",
       "<polyline fill=\"none\" points=\"344.5,-108 454.5,-108 \" stroke=\"black\"/>\n",
       "<text font-family=\"Times,serif\" font-size=\"14.00\" text-anchor=\"middle\" x=\"399.5\" y=\"-92.8\">(None, 298)</text>\n",
       "</g>\n",
       "<!-- 140486183341192&#45;&gt;140486167156552 -->\n",
       "<g class=\"edge\" id=\"edge2\"><title>140486183341192-&gt;140486167156552</title>\n",
       "<path d=\"M227,-168.593C227,-160.118 227,-150.297 227,-141.104\" fill=\"none\" stroke=\"black\"/>\n",
       "<polygon fill=\"black\" points=\"230.5,-141.096 227,-131.096 223.5,-141.096 230.5,-141.096\" stroke=\"black\"/>\n",
       "</g>\n",
       "<!-- 140486183489944 -->\n",
       "<g class=\"node\" id=\"node4\"><title>140486183489944</title>\n",
       "<polygon fill=\"none\" points=\"106.5,-1 106.5,-47 347.5,-47 347.5,-1 106.5,-1\" stroke=\"black\"/>\n",
       "<text font-family=\"Times,serif\" font-size=\"14.00\" text-anchor=\"middle\" x=\"157.5\" y=\"-20.3\">dense_9: Dense</text>\n",
       "<polyline fill=\"none\" points=\"208.5,-1 208.5,-47 \" stroke=\"black\"/>\n",
       "<text font-family=\"Times,serif\" font-size=\"14.00\" text-anchor=\"middle\" x=\"236.5\" y=\"-31.8\">input:</text>\n",
       "<polyline fill=\"none\" points=\"208.5,-24 264.5,-24 \" stroke=\"black\"/>\n",
       "<text font-family=\"Times,serif\" font-size=\"14.00\" text-anchor=\"middle\" x=\"236.5\" y=\"-8.8\">output:</text>\n",
       "<polyline fill=\"none\" points=\"264.5,-1 264.5,-47 \" stroke=\"black\"/>\n",
       "<text font-family=\"Times,serif\" font-size=\"14.00\" text-anchor=\"middle\" x=\"306\" y=\"-31.8\">(None, 298)</text>\n",
       "<polyline fill=\"none\" points=\"264.5,-24 347.5,-24 \" stroke=\"black\"/>\n",
       "<text font-family=\"Times,serif\" font-size=\"14.00\" text-anchor=\"middle\" x=\"306\" y=\"-8.8\">(None, 10)</text>\n",
       "</g>\n",
       "<!-- 140486167156552&#45;&gt;140486183489944 -->\n",
       "<g class=\"edge\" id=\"edge3\"><title>140486167156552-&gt;140486183489944</title>\n",
       "<path d=\"M227,-84.5931C227,-76.1177 227,-66.2974 227,-57.104\" fill=\"none\" stroke=\"black\"/>\n",
       "<polygon fill=\"black\" points=\"230.5,-57.0958 227,-47.0959 223.5,-57.0959 230.5,-57.0958\" stroke=\"black\"/>\n",
       "</g>\n",
       "</g>\n",
       "</svg>"
      ],
      "text/plain": [
       "<IPython.core.display.SVG object>"
      ]
     },
     "execution_count": 16,
     "metadata": {},
     "output_type": "execute_result"
    }
   ],
   "source": [
    "# Encoding layers:\n",
    "io_encoder = Input(shape=input_shape)\n",
    "lstm_encoder1 = Bidirectional(LSTM(lstm_nodes, return_sequences=True, recurrent_dropout=0.2), merge_mode='concat')(io_encoder)\n",
    "lstm_encoder2 = Bidirectional(LSTM(lstm_nodes, return_sequences=False, recurrent_dropout=0.2), merge_mode='concat')(lstm_encoder1)\n",
    "\n",
    "\n",
    "# Latent layers:\n",
    "z_mean = Dense(latent_dim)(lstm_encoder2)\n",
    "z_log_var = Dense(latent_dim)(lstm_encoder2)\n",
    "z = Lambda(sampling, output_shape=(latent_dim, ))([z_mean, z_log_var])\n",
    "\n",
    "encoder = Model(io_encoder, z_mean)\n",
    "encoder.summary()\n",
    "plot_model(encoder, to_file='encoder.svg', show_shapes=True)\n",
    "SVG(model_to_dot(encoder, show_shapes=True).create(prog='dot', format='svg'))"
   ]
  },
  {
   "cell_type": "code",
   "execution_count": null,
   "metadata": {},
   "outputs": [],
   "source": []
  },
  {
   "cell_type": "code",
   "execution_count": 19,
   "metadata": {},
   "outputs": [
    {
     "name": "stdout",
     "output_type": "stream",
     "text": [
      "_________________________________________________________________\n",
      "Layer (type)                 Output Shape              Param #   \n",
      "=================================================================\n",
      "input_7 (InputLayer)         (None, 10)                0         \n",
      "_________________________________________________________________\n",
      "repeat_vector_3 (RepeatVecto (None, 149, 10)           0         \n",
      "_________________________________________________________________\n",
      "bidirectional_15 (Bidirectio (None, 149, 298)          190720    \n",
      "_________________________________________________________________\n",
      "bidirectional_16 (Bidirectio (None, 298)               534016    \n",
      "_________________________________________________________________\n",
      "dense_13 (Dense)             (None, 3129)              935571    \n",
      "_________________________________________________________________\n",
      "reshape_2 (Reshape)          (None, 149, 21)           0         \n",
      "=================================================================\n",
      "Total params: 1,660,307\n",
      "Trainable params: 1,660,307\n",
      "Non-trainable params: 0\n",
      "_________________________________________________________________\n"
     ]
    },
    {
     "data": {
      "image/svg+xml": [
       "<svg height=\"476pt\" viewBox=\"0.00 0.00 462.00 476.00\" width=\"462pt\" xmlns=\"http://www.w3.org/2000/svg\" xmlns:xlink=\"http://www.w3.org/1999/xlink\">\n",
       "<g class=\"graph\" id=\"graph0\" transform=\"scale(1 1) rotate(0) translate(4 472)\">\n",
       "<title>G</title>\n",
       "<polygon fill=\"white\" points=\"-4,4 -4,-472 458,-472 458,4 -4,4\" stroke=\"none\"/>\n",
       "<!-- 140486182631296 -->\n",
       "<g class=\"node\" id=\"node1\"><title>140486182631296</title>\n",
       "<polygon fill=\"none\" points=\"97,-421 97,-467 357,-467 357,-421 97,-421\" stroke=\"black\"/>\n",
       "<text font-family=\"Times,serif\" font-size=\"14.00\" text-anchor=\"middle\" x=\"160.5\" y=\"-440.3\">input_7: InputLayer</text>\n",
       "<polyline fill=\"none\" points=\"224,-421 224,-467 \" stroke=\"black\"/>\n",
       "<text font-family=\"Times,serif\" font-size=\"14.00\" text-anchor=\"middle\" x=\"252\" y=\"-451.8\">input:</text>\n",
       "<polyline fill=\"none\" points=\"224,-444 280,-444 \" stroke=\"black\"/>\n",
       "<text font-family=\"Times,serif\" font-size=\"14.00\" text-anchor=\"middle\" x=\"252\" y=\"-428.8\">output:</text>\n",
       "<polyline fill=\"none\" points=\"280,-421 280,-467 \" stroke=\"black\"/>\n",
       "<text font-family=\"Times,serif\" font-size=\"14.00\" text-anchor=\"middle\" x=\"318.5\" y=\"-451.8\">(None, 10)</text>\n",
       "<polyline fill=\"none\" points=\"280,-444 357,-444 \" stroke=\"black\"/>\n",
       "<text font-family=\"Times,serif\" font-size=\"14.00\" text-anchor=\"middle\" x=\"318.5\" y=\"-428.8\">(None, 10)</text>\n",
       "</g>\n",
       "<!-- 140486182642072 -->\n",
       "<g class=\"node\" id=\"node2\"><title>140486182642072</title>\n",
       "<polygon fill=\"none\" points=\"53,-337 53,-383 401,-383 401,-337 53,-337\" stroke=\"black\"/>\n",
       "<text font-family=\"Times,serif\" font-size=\"14.00\" text-anchor=\"middle\" x=\"147.5\" y=\"-356.3\">repeat_vector_3: RepeatVector</text>\n",
       "<polyline fill=\"none\" points=\"242,-337 242,-383 \" stroke=\"black\"/>\n",
       "<text font-family=\"Times,serif\" font-size=\"14.00\" text-anchor=\"middle\" x=\"270\" y=\"-367.8\">input:</text>\n",
       "<polyline fill=\"none\" points=\"242,-360 298,-360 \" stroke=\"black\"/>\n",
       "<text font-family=\"Times,serif\" font-size=\"14.00\" text-anchor=\"middle\" x=\"270\" y=\"-344.8\">output:</text>\n",
       "<polyline fill=\"none\" points=\"298,-337 298,-383 \" stroke=\"black\"/>\n",
       "<text font-family=\"Times,serif\" font-size=\"14.00\" text-anchor=\"middle\" x=\"349.5\" y=\"-367.8\">(None, 10)</text>\n",
       "<polyline fill=\"none\" points=\"298,-360 401,-360 \" stroke=\"black\"/>\n",
       "<text font-family=\"Times,serif\" font-size=\"14.00\" text-anchor=\"middle\" x=\"349.5\" y=\"-344.8\">(None, 149, 10)</text>\n",
       "</g>\n",
       "<!-- 140486182631296&#45;&gt;140486182642072 -->\n",
       "<g class=\"edge\" id=\"edge1\"><title>140486182631296-&gt;140486182642072</title>\n",
       "<path d=\"M227,-420.593C227,-412.118 227,-402.297 227,-393.104\" fill=\"none\" stroke=\"black\"/>\n",
       "<polygon fill=\"black\" points=\"230.5,-393.096 227,-383.096 223.5,-393.096 230.5,-393.096\" stroke=\"black\"/>\n",
       "</g>\n",
       "<!-- 140486182633312 -->\n",
       "<g class=\"node\" id=\"node3\"><title>140486182633312</title>\n",
       "<polygon fill=\"none\" points=\"-0.5,-253 -0.5,-299 454.5,-299 454.5,-253 -0.5,-253\" stroke=\"black\"/>\n",
       "<text font-family=\"Times,serif\" font-size=\"14.00\" text-anchor=\"middle\" x=\"144\" y=\"-272.3\">bidirectional_15(lstm_15): Bidirectional(LSTM)</text>\n",
       "<polyline fill=\"none\" points=\"288.5,-253 288.5,-299 \" stroke=\"black\"/>\n",
       "<text font-family=\"Times,serif\" font-size=\"14.00\" text-anchor=\"middle\" x=\"316.5\" y=\"-283.8\">input:</text>\n",
       "<polyline fill=\"none\" points=\"288.5,-276 344.5,-276 \" stroke=\"black\"/>\n",
       "<text font-family=\"Times,serif\" font-size=\"14.00\" text-anchor=\"middle\" x=\"316.5\" y=\"-260.8\">output:</text>\n",
       "<polyline fill=\"none\" points=\"344.5,-253 344.5,-299 \" stroke=\"black\"/>\n",
       "<text font-family=\"Times,serif\" font-size=\"14.00\" text-anchor=\"middle\" x=\"399.5\" y=\"-283.8\">(None, 149, 10)</text>\n",
       "<polyline fill=\"none\" points=\"344.5,-276 454.5,-276 \" stroke=\"black\"/>\n",
       "<text font-family=\"Times,serif\" font-size=\"14.00\" text-anchor=\"middle\" x=\"399.5\" y=\"-260.8\">(None, 149, 298)</text>\n",
       "</g>\n",
       "<!-- 140486182642072&#45;&gt;140486182633312 -->\n",
       "<g class=\"edge\" id=\"edge2\"><title>140486182642072-&gt;140486182633312</title>\n",
       "<path d=\"M227,-336.593C227,-328.118 227,-318.297 227,-309.104\" fill=\"none\" stroke=\"black\"/>\n",
       "<polygon fill=\"black\" points=\"230.5,-309.096 227,-299.096 223.5,-309.096 230.5,-309.096\" stroke=\"black\"/>\n",
       "</g>\n",
       "<!-- 140486182632136 -->\n",
       "<g class=\"node\" id=\"node4\"><title>140486182632136</title>\n",
       "<polygon fill=\"none\" points=\"-0.5,-169 -0.5,-215 454.5,-215 454.5,-169 -0.5,-169\" stroke=\"black\"/>\n",
       "<text font-family=\"Times,serif\" font-size=\"14.00\" text-anchor=\"middle\" x=\"144\" y=\"-188.3\">bidirectional_16(lstm_16): Bidirectional(LSTM)</text>\n",
       "<polyline fill=\"none\" points=\"288.5,-169 288.5,-215 \" stroke=\"black\"/>\n",
       "<text font-family=\"Times,serif\" font-size=\"14.00\" text-anchor=\"middle\" x=\"316.5\" y=\"-199.8\">input:</text>\n",
       "<polyline fill=\"none\" points=\"288.5,-192 344.5,-192 \" stroke=\"black\"/>\n",
       "<text font-family=\"Times,serif\" font-size=\"14.00\" text-anchor=\"middle\" x=\"316.5\" y=\"-176.8\">output:</text>\n",
       "<polyline fill=\"none\" points=\"344.5,-169 344.5,-215 \" stroke=\"black\"/>\n",
       "<text font-family=\"Times,serif\" font-size=\"14.00\" text-anchor=\"middle\" x=\"399.5\" y=\"-199.8\">(None, 149, 298)</text>\n",
       "<polyline fill=\"none\" points=\"344.5,-192 454.5,-192 \" stroke=\"black\"/>\n",
       "<text font-family=\"Times,serif\" font-size=\"14.00\" text-anchor=\"middle\" x=\"399.5\" y=\"-176.8\">(None, 298)</text>\n",
       "</g>\n",
       "<!-- 140486182633312&#45;&gt;140486182632136 -->\n",
       "<g class=\"edge\" id=\"edge3\"><title>140486182633312-&gt;140486182632136</title>\n",
       "<path d=\"M227,-252.593C227,-244.118 227,-234.297 227,-225.104\" fill=\"none\" stroke=\"black\"/>\n",
       "<polygon fill=\"black\" points=\"230.5,-225.096 227,-215.096 223.5,-225.096 230.5,-225.096\" stroke=\"black\"/>\n",
       "</g>\n",
       "<!-- 140486182632640 -->\n",
       "<g class=\"node\" id=\"node5\"><title>140486182632640</title>\n",
       "<polygon fill=\"none\" points=\"99.5,-85 99.5,-131 354.5,-131 354.5,-85 99.5,-85\" stroke=\"black\"/>\n",
       "<text font-family=\"Times,serif\" font-size=\"14.00\" text-anchor=\"middle\" x=\"154\" y=\"-104.3\">dense_13: Dense</text>\n",
       "<polyline fill=\"none\" points=\"208.5,-85 208.5,-131 \" stroke=\"black\"/>\n",
       "<text font-family=\"Times,serif\" font-size=\"14.00\" text-anchor=\"middle\" x=\"236.5\" y=\"-115.8\">input:</text>\n",
       "<polyline fill=\"none\" points=\"208.5,-108 264.5,-108 \" stroke=\"black\"/>\n",
       "<text font-family=\"Times,serif\" font-size=\"14.00\" text-anchor=\"middle\" x=\"236.5\" y=\"-92.8\">output:</text>\n",
       "<polyline fill=\"none\" points=\"264.5,-85 264.5,-131 \" stroke=\"black\"/>\n",
       "<text font-family=\"Times,serif\" font-size=\"14.00\" text-anchor=\"middle\" x=\"309.5\" y=\"-115.8\">(None, 298)</text>\n",
       "<polyline fill=\"none\" points=\"264.5,-108 354.5,-108 \" stroke=\"black\"/>\n",
       "<text font-family=\"Times,serif\" font-size=\"14.00\" text-anchor=\"middle\" x=\"309.5\" y=\"-92.8\">(None, 3129)</text>\n",
       "</g>\n",
       "<!-- 140486182632136&#45;&gt;140486182632640 -->\n",
       "<g class=\"edge\" id=\"edge4\"><title>140486182632136-&gt;140486182632640</title>\n",
       "<path d=\"M227,-168.593C227,-160.118 227,-150.297 227,-141.104\" fill=\"none\" stroke=\"black\"/>\n",
       "<polygon fill=\"black\" points=\"230.5,-141.096 227,-131.096 223.5,-141.096 230.5,-141.096\" stroke=\"black\"/>\n",
       "</g>\n",
       "<!-- 140486182631240 -->\n",
       "<g class=\"node\" id=\"node6\"><title>140486182631240</title>\n",
       "<polygon fill=\"none\" points=\"85,-1 85,-47 369,-47 369,-1 85,-1\" stroke=\"black\"/>\n",
       "<text font-family=\"Times,serif\" font-size=\"14.00\" text-anchor=\"middle\" x=\"147.5\" y=\"-20.3\">reshape_2: Reshape</text>\n",
       "<polyline fill=\"none\" points=\"210,-1 210,-47 \" stroke=\"black\"/>\n",
       "<text font-family=\"Times,serif\" font-size=\"14.00\" text-anchor=\"middle\" x=\"238\" y=\"-31.8\">input:</text>\n",
       "<polyline fill=\"none\" points=\"210,-24 266,-24 \" stroke=\"black\"/>\n",
       "<text font-family=\"Times,serif\" font-size=\"14.00\" text-anchor=\"middle\" x=\"238\" y=\"-8.8\">output:</text>\n",
       "<polyline fill=\"none\" points=\"266,-1 266,-47 \" stroke=\"black\"/>\n",
       "<text font-family=\"Times,serif\" font-size=\"14.00\" text-anchor=\"middle\" x=\"317.5\" y=\"-31.8\">(None, 3129)</text>\n",
       "<polyline fill=\"none\" points=\"266,-24 369,-24 \" stroke=\"black\"/>\n",
       "<text font-family=\"Times,serif\" font-size=\"14.00\" text-anchor=\"middle\" x=\"317.5\" y=\"-8.8\">(None, 149, 21)</text>\n",
       "</g>\n",
       "<!-- 140486182632640&#45;&gt;140486182631240 -->\n",
       "<g class=\"edge\" id=\"edge5\"><title>140486182632640-&gt;140486182631240</title>\n",
       "<path d=\"M227,-84.5931C227,-76.1177 227,-66.2974 227,-57.104\" fill=\"none\" stroke=\"black\"/>\n",
       "<polygon fill=\"black\" points=\"230.5,-57.0958 227,-47.0959 223.5,-57.0959 230.5,-57.0958\" stroke=\"black\"/>\n",
       "</g>\n",
       "</g>\n",
       "</svg>"
      ],
      "text/plain": [
       "<IPython.core.display.SVG object>"
      ]
     },
     "execution_count": 19,
     "metadata": {},
     "output_type": "execute_result"
    }
   ],
   "source": [
    "# Decoding layers:\n",
    "rep_decoder = RepeatVector(input_shape[0])\n",
    "lstm_decoder1 = Bidirectional(LSTM(lstm_nodes, return_sequences=True, recurrent_dropout=0.2), merge_mode='concat')\n",
    "lstm_decoder2 = Bidirectional(LSTM(lstm_nodes, return_sequences=False, recurrent_dropout=0.2), merge_mode='concat')\n",
    "decoder_out = Dense(input_total_dim, activation='sigmoid')\n",
    "reshape2input = Reshape(input_shape)\n",
    "io_decoder = reshape2input(decoder_out(lstm_decoder2(lstm_decoder1(rep_decoder(z)))))\n",
    "\n",
    "\n",
    "io_z = Input(shape=(latent_dim,))\n",
    "io_decoder_means = reshape2input(decoder_out(lstm_decoder2(lstm_decoder1(rep_decoder(io_z)))))\n",
    "decoder = Model(io_z, io_decoder_means)\n",
    "decoder.summary()\n",
    "plot_model(decoder, to_file='decoder.svg', show_shapes=True)\n",
    "SVG(model_to_dot(decoder, show_shapes=True).create(prog='dot', format='svg'))"
   ]
  },
  {
   "cell_type": "code",
   "execution_count": null,
   "metadata": {},
   "outputs": [],
   "source": []
  },
  {
   "cell_type": "code",
   "execution_count": 117,
   "metadata": {},
   "outputs": [
    {
     "name": "stdout",
     "output_type": "stream",
     "text": [
      "____________________________________________________________________________________________________\n",
      "Layer (type)                     Output Shape          Param #     Connected to                     \n",
      "====================================================================================================\n",
      "input_21 (InputLayer)            (None, 149, 21)       0                                            \n",
      "____________________________________________________________________________________________________\n",
      "bidirectional_49 (Bidirectional) (None, 149, 60)       12480       input_21[0][0]                   \n",
      "____________________________________________________________________________________________________\n",
      "bidirectional_50 (Bidirectional) (None, 60)            21840       bidirectional_49[0][0]           \n",
      "____________________________________________________________________________________________________\n",
      "dense_26 (Dense)                 (None, 10)            610         bidirectional_50[0][0]           \n",
      "____________________________________________________________________________________________________\n",
      "dense_27 (Dense)                 (None, 10)            610         bidirectional_50[0][0]           \n",
      "____________________________________________________________________________________________________\n",
      "lambda_8 (Lambda)                (None, 10)            0           dense_26[0][0]                   \n",
      "                                                                   dense_27[0][0]                   \n",
      "____________________________________________________________________________________________________\n",
      "repeat_vector_17 (RepeatVector)  (None, 149, 10)       0           lambda_8[0][0]                   \n",
      "____________________________________________________________________________________________________\n",
      "bidirectional_51 (Bidirectional) (None, 149, 60)       9840        repeat_vector_17[0][0]           \n",
      "____________________________________________________________________________________________________\n",
      "bidirectional_52 (Bidirectional) (None, 60)            21840       bidirectional_51[0][0]           \n",
      "____________________________________________________________________________________________________\n",
      "dense_28 (Dense)                 (None, 3129)          190869      bidirectional_52[0][0]           \n",
      "____________________________________________________________________________________________________\n",
      "reshape_18 (Reshape)             (None, 149, 21)       0           dense_28[0][0]                   \n",
      "====================================================================================================\n",
      "Total params: 258,089\n",
      "Trainable params: 258,089\n",
      "Non-trainable params: 0\n",
      "____________________________________________________________________________________________________\n"
     ]
    },
    {
     "data": {
      "image/svg+xml": [
       "<svg height=\"812pt\" viewBox=\"0.00 0.00 510.00 812.00\" width=\"510pt\" xmlns=\"http://www.w3.org/2000/svg\" xmlns:xlink=\"http://www.w3.org/1999/xlink\">\n",
       "<g class=\"graph\" id=\"graph0\" transform=\"scale(1 1) rotate(0) translate(4 808)\">\n",
       "<title>G</title>\n",
       "<polygon fill=\"white\" points=\"-4,4 -4,-808 506,-808 506,4 -4,4\" stroke=\"none\"/>\n",
       "<!-- 140446086989640 -->\n",
       "<g class=\"node\" id=\"node1\"><title>140446086989640</title>\n",
       "<polygon fill=\"none\" points=\"104.5,-757 104.5,-803 397.5,-803 397.5,-757 104.5,-757\" stroke=\"black\"/>\n",
       "<text font-family=\"Times,serif\" font-size=\"14.00\" text-anchor=\"middle\" x=\"171.5\" y=\"-776.3\">input_21: InputLayer</text>\n",
       "<polyline fill=\"none\" points=\"238.5,-757 238.5,-803 \" stroke=\"black\"/>\n",
       "<text font-family=\"Times,serif\" font-size=\"14.00\" text-anchor=\"middle\" x=\"266.5\" y=\"-787.8\">input:</text>\n",
       "<polyline fill=\"none\" points=\"238.5,-780 294.5,-780 \" stroke=\"black\"/>\n",
       "<text font-family=\"Times,serif\" font-size=\"14.00\" text-anchor=\"middle\" x=\"266.5\" y=\"-764.8\">output:</text>\n",
       "<polyline fill=\"none\" points=\"294.5,-757 294.5,-803 \" stroke=\"black\"/>\n",
       "<text font-family=\"Times,serif\" font-size=\"14.00\" text-anchor=\"middle\" x=\"346\" y=\"-787.8\">(None, 149, 21)</text>\n",
       "<polyline fill=\"none\" points=\"294.5,-780 397.5,-780 \" stroke=\"black\"/>\n",
       "<text font-family=\"Times,serif\" font-size=\"14.00\" text-anchor=\"middle\" x=\"346\" y=\"-764.8\">(None, 149, 21)</text>\n",
       "</g>\n",
       "<!-- 140446087208856 -->\n",
       "<g class=\"node\" id=\"node2\"><title>140446087208856</title>\n",
       "<polygon fill=\"none\" points=\"27,-673 27,-719 475,-719 475,-673 27,-673\" stroke=\"black\"/>\n",
       "<text font-family=\"Times,serif\" font-size=\"14.00\" text-anchor=\"middle\" x=\"171.5\" y=\"-692.3\">bidirectional_49(lstm_49): Bidirectional(LSTM)</text>\n",
       "<polyline fill=\"none\" points=\"316,-673 316,-719 \" stroke=\"black\"/>\n",
       "<text font-family=\"Times,serif\" font-size=\"14.00\" text-anchor=\"middle\" x=\"344\" y=\"-703.8\">input:</text>\n",
       "<polyline fill=\"none\" points=\"316,-696 372,-696 \" stroke=\"black\"/>\n",
       "<text font-family=\"Times,serif\" font-size=\"14.00\" text-anchor=\"middle\" x=\"344\" y=\"-680.8\">output:</text>\n",
       "<polyline fill=\"none\" points=\"372,-673 372,-719 \" stroke=\"black\"/>\n",
       "<text font-family=\"Times,serif\" font-size=\"14.00\" text-anchor=\"middle\" x=\"423.5\" y=\"-703.8\">(None, 149, 21)</text>\n",
       "<polyline fill=\"none\" points=\"372,-696 475,-696 \" stroke=\"black\"/>\n",
       "<text font-family=\"Times,serif\" font-size=\"14.00\" text-anchor=\"middle\" x=\"423.5\" y=\"-680.8\">(None, 149, 60)</text>\n",
       "</g>\n",
       "<!-- 140446086989640&#45;&gt;140446087208856 -->\n",
       "<g class=\"edge\" id=\"edge1\"><title>140446086989640-&gt;140446087208856</title>\n",
       "<path d=\"M251,-756.593C251,-748.118 251,-738.297 251,-729.104\" fill=\"none\" stroke=\"black\"/>\n",
       "<polygon fill=\"black\" points=\"254.5,-729.096 251,-719.096 247.5,-729.096 254.5,-729.096\" stroke=\"black\"/>\n",
       "</g>\n",
       "<!-- 140446073347992 -->\n",
       "<g class=\"node\" id=\"node3\"><title>140446073347992</title>\n",
       "<polygon fill=\"none\" points=\"27,-589 27,-635 475,-635 475,-589 27,-589\" stroke=\"black\"/>\n",
       "<text font-family=\"Times,serif\" font-size=\"14.00\" text-anchor=\"middle\" x=\"171.5\" y=\"-608.3\">bidirectional_50(lstm_50): Bidirectional(LSTM)</text>\n",
       "<polyline fill=\"none\" points=\"316,-589 316,-635 \" stroke=\"black\"/>\n",
       "<text font-family=\"Times,serif\" font-size=\"14.00\" text-anchor=\"middle\" x=\"344\" y=\"-619.8\">input:</text>\n",
       "<polyline fill=\"none\" points=\"316,-612 372,-612 \" stroke=\"black\"/>\n",
       "<text font-family=\"Times,serif\" font-size=\"14.00\" text-anchor=\"middle\" x=\"344\" y=\"-596.8\">output:</text>\n",
       "<polyline fill=\"none\" points=\"372,-589 372,-635 \" stroke=\"black\"/>\n",
       "<text font-family=\"Times,serif\" font-size=\"14.00\" text-anchor=\"middle\" x=\"423.5\" y=\"-619.8\">(None, 149, 60)</text>\n",
       "<polyline fill=\"none\" points=\"372,-612 475,-612 \" stroke=\"black\"/>\n",
       "<text font-family=\"Times,serif\" font-size=\"14.00\" text-anchor=\"middle\" x=\"423.5\" y=\"-596.8\">(None, 60)</text>\n",
       "</g>\n",
       "<!-- 140446087208856&#45;&gt;140446073347992 -->\n",
       "<g class=\"edge\" id=\"edge2\"><title>140446087208856-&gt;140446073347992</title>\n",
       "<path d=\"M251,-672.593C251,-664.118 251,-654.297 251,-645.104\" fill=\"none\" stroke=\"black\"/>\n",
       "<polygon fill=\"black\" points=\"254.5,-645.096 251,-635.096 247.5,-645.096 254.5,-645.096\" stroke=\"black\"/>\n",
       "</g>\n",
       "<!-- 140446087208016 -->\n",
       "<g class=\"node\" id=\"node4\"><title>140446087208016</title>\n",
       "<polygon fill=\"none\" points=\"0,-505 0,-551 242,-551 242,-505 0,-505\" stroke=\"black\"/>\n",
       "<text font-family=\"Times,serif\" font-size=\"14.00\" text-anchor=\"middle\" x=\"54.5\" y=\"-524.3\">dense_26: Dense</text>\n",
       "<polyline fill=\"none\" points=\"109,-505 109,-551 \" stroke=\"black\"/>\n",
       "<text font-family=\"Times,serif\" font-size=\"14.00\" text-anchor=\"middle\" x=\"137\" y=\"-535.8\">input:</text>\n",
       "<polyline fill=\"none\" points=\"109,-528 165,-528 \" stroke=\"black\"/>\n",
       "<text font-family=\"Times,serif\" font-size=\"14.00\" text-anchor=\"middle\" x=\"137\" y=\"-512.8\">output:</text>\n",
       "<polyline fill=\"none\" points=\"165,-505 165,-551 \" stroke=\"black\"/>\n",
       "<text font-family=\"Times,serif\" font-size=\"14.00\" text-anchor=\"middle\" x=\"203.5\" y=\"-535.8\">(None, 60)</text>\n",
       "<polyline fill=\"none\" points=\"165,-528 242,-528 \" stroke=\"black\"/>\n",
       "<text font-family=\"Times,serif\" font-size=\"14.00\" text-anchor=\"middle\" x=\"203.5\" y=\"-512.8\">(None, 10)</text>\n",
       "</g>\n",
       "<!-- 140446073347992&#45;&gt;140446087208016 -->\n",
       "<g class=\"edge\" id=\"edge3\"><title>140446073347992-&gt;140446087208016</title>\n",
       "<path d=\"M215.82,-588.81C200.068,-578.874 181.332,-567.056 164.692,-556.56\" fill=\"none\" stroke=\"black\"/>\n",
       "<polygon fill=\"black\" points=\"166.533,-553.583 156.208,-551.208 162.799,-559.503 166.533,-553.583\" stroke=\"black\"/>\n",
       "</g>\n",
       "<!-- 140446069545616 -->\n",
       "<g class=\"node\" id=\"node5\"><title>140446069545616</title>\n",
       "<polygon fill=\"none\" points=\"260,-505 260,-551 502,-551 502,-505 260,-505\" stroke=\"black\"/>\n",
       "<text font-family=\"Times,serif\" font-size=\"14.00\" text-anchor=\"middle\" x=\"314.5\" y=\"-524.3\">dense_27: Dense</text>\n",
       "<polyline fill=\"none\" points=\"369,-505 369,-551 \" stroke=\"black\"/>\n",
       "<text font-family=\"Times,serif\" font-size=\"14.00\" text-anchor=\"middle\" x=\"397\" y=\"-535.8\">input:</text>\n",
       "<polyline fill=\"none\" points=\"369,-528 425,-528 \" stroke=\"black\"/>\n",
       "<text font-family=\"Times,serif\" font-size=\"14.00\" text-anchor=\"middle\" x=\"397\" y=\"-512.8\">output:</text>\n",
       "<polyline fill=\"none\" points=\"425,-505 425,-551 \" stroke=\"black\"/>\n",
       "<text font-family=\"Times,serif\" font-size=\"14.00\" text-anchor=\"middle\" x=\"463.5\" y=\"-535.8\">(None, 60)</text>\n",
       "<polyline fill=\"none\" points=\"425,-528 502,-528 \" stroke=\"black\"/>\n",
       "<text font-family=\"Times,serif\" font-size=\"14.00\" text-anchor=\"middle\" x=\"463.5\" y=\"-512.8\">(None, 10)</text>\n",
       "</g>\n",
       "<!-- 140446073347992&#45;&gt;140446069545616 -->\n",
       "<g class=\"edge\" id=\"edge4\"><title>140446073347992-&gt;140446069545616</title>\n",
       "<path d=\"M286.18,-588.81C301.932,-578.874 320.668,-567.056 337.308,-556.56\" fill=\"none\" stroke=\"black\"/>\n",
       "<polygon fill=\"black\" points=\"339.201,-559.503 345.792,-551.208 335.467,-553.583 339.201,-559.503\" stroke=\"black\"/>\n",
       "</g>\n",
       "<!-- 140446056726368 -->\n",
       "<g class=\"node\" id=\"node6\"><title>140446056726368</title>\n",
       "<polygon fill=\"none\" points=\"86,-421 86,-467 416,-467 416,-421 86,-421\" stroke=\"black\"/>\n",
       "<text font-family=\"Times,serif\" font-size=\"14.00\" text-anchor=\"middle\" x=\"147\" y=\"-440.3\">lambda_8: Lambda</text>\n",
       "<polyline fill=\"none\" points=\"208,-421 208,-467 \" stroke=\"black\"/>\n",
       "<text font-family=\"Times,serif\" font-size=\"14.00\" text-anchor=\"middle\" x=\"236\" y=\"-451.8\">input:</text>\n",
       "<polyline fill=\"none\" points=\"208,-444 264,-444 \" stroke=\"black\"/>\n",
       "<text font-family=\"Times,serif\" font-size=\"14.00\" text-anchor=\"middle\" x=\"236\" y=\"-428.8\">output:</text>\n",
       "<polyline fill=\"none\" points=\"264,-421 264,-467 \" stroke=\"black\"/>\n",
       "<text font-family=\"Times,serif\" font-size=\"14.00\" text-anchor=\"middle\" x=\"340\" y=\"-451.8\">[(None, 10), (None, 10)]</text>\n",
       "<polyline fill=\"none\" points=\"264,-444 416,-444 \" stroke=\"black\"/>\n",
       "<text font-family=\"Times,serif\" font-size=\"14.00\" text-anchor=\"middle\" x=\"340\" y=\"-428.8\">(None, 10)</text>\n",
       "</g>\n",
       "<!-- 140446087208016&#45;&gt;140446056726368 -->\n",
       "<g class=\"edge\" id=\"edge5\"><title>140446087208016-&gt;140446056726368</title>\n",
       "<path d=\"M156.18,-504.81C171.932,-494.874 190.668,-483.056 207.308,-472.56\" fill=\"none\" stroke=\"black\"/>\n",
       "<polygon fill=\"black\" points=\"209.201,-475.503 215.792,-467.208 205.467,-469.583 209.201,-475.503\" stroke=\"black\"/>\n",
       "</g>\n",
       "<!-- 140446069545616&#45;&gt;140446056726368 -->\n",
       "<g class=\"edge\" id=\"edge6\"><title>140446069545616-&gt;140446056726368</title>\n",
       "<path d=\"M345.82,-504.81C330.068,-494.874 311.332,-483.056 294.692,-472.56\" fill=\"none\" stroke=\"black\"/>\n",
       "<polygon fill=\"black\" points=\"296.533,-469.583 286.208,-467.208 292.799,-475.503 296.533,-469.583\" stroke=\"black\"/>\n",
       "</g>\n",
       "<!-- 140446053548552 -->\n",
       "<g class=\"node\" id=\"node7\"><title>140446053548552</title>\n",
       "<polygon fill=\"none\" points=\"73.5,-337 73.5,-383 428.5,-383 428.5,-337 73.5,-337\" stroke=\"black\"/>\n",
       "<text font-family=\"Times,serif\" font-size=\"14.00\" text-anchor=\"middle\" x=\"171.5\" y=\"-356.3\">repeat_vector_17: RepeatVector</text>\n",
       "<polyline fill=\"none\" points=\"269.5,-337 269.5,-383 \" stroke=\"black\"/>\n",
       "<text font-family=\"Times,serif\" font-size=\"14.00\" text-anchor=\"middle\" x=\"297.5\" y=\"-367.8\">input:</text>\n",
       "<polyline fill=\"none\" points=\"269.5,-360 325.5,-360 \" stroke=\"black\"/>\n",
       "<text font-family=\"Times,serif\" font-size=\"14.00\" text-anchor=\"middle\" x=\"297.5\" y=\"-344.8\">output:</text>\n",
       "<polyline fill=\"none\" points=\"325.5,-337 325.5,-383 \" stroke=\"black\"/>\n",
       "<text font-family=\"Times,serif\" font-size=\"14.00\" text-anchor=\"middle\" x=\"377\" y=\"-367.8\">(None, 10)</text>\n",
       "<polyline fill=\"none\" points=\"325.5,-360 428.5,-360 \" stroke=\"black\"/>\n",
       "<text font-family=\"Times,serif\" font-size=\"14.00\" text-anchor=\"middle\" x=\"377\" y=\"-344.8\">(None, 149, 10)</text>\n",
       "</g>\n",
       "<!-- 140446056726368&#45;&gt;140446053548552 -->\n",
       "<g class=\"edge\" id=\"edge7\"><title>140446056726368-&gt;140446053548552</title>\n",
       "<path d=\"M251,-420.593C251,-412.118 251,-402.297 251,-393.104\" fill=\"none\" stroke=\"black\"/>\n",
       "<polygon fill=\"black\" points=\"254.5,-393.096 251,-383.096 247.5,-393.096 254.5,-393.096\" stroke=\"black\"/>\n",
       "</g>\n",
       "<!-- 140446053549224 -->\n",
       "<g class=\"node\" id=\"node8\"><title>140446053549224</title>\n",
       "<polygon fill=\"none\" points=\"27,-253 27,-299 475,-299 475,-253 27,-253\" stroke=\"black\"/>\n",
       "<text font-family=\"Times,serif\" font-size=\"14.00\" text-anchor=\"middle\" x=\"171.5\" y=\"-272.3\">bidirectional_51(lstm_51): Bidirectional(LSTM)</text>\n",
       "<polyline fill=\"none\" points=\"316,-253 316,-299 \" stroke=\"black\"/>\n",
       "<text font-family=\"Times,serif\" font-size=\"14.00\" text-anchor=\"middle\" x=\"344\" y=\"-283.8\">input:</text>\n",
       "<polyline fill=\"none\" points=\"316,-276 372,-276 \" stroke=\"black\"/>\n",
       "<text font-family=\"Times,serif\" font-size=\"14.00\" text-anchor=\"middle\" x=\"344\" y=\"-260.8\">output:</text>\n",
       "<polyline fill=\"none\" points=\"372,-253 372,-299 \" stroke=\"black\"/>\n",
       "<text font-family=\"Times,serif\" font-size=\"14.00\" text-anchor=\"middle\" x=\"423.5\" y=\"-283.8\">(None, 149, 10)</text>\n",
       "<polyline fill=\"none\" points=\"372,-276 475,-276 \" stroke=\"black\"/>\n",
       "<text font-family=\"Times,serif\" font-size=\"14.00\" text-anchor=\"middle\" x=\"423.5\" y=\"-260.8\">(None, 149, 60)</text>\n",
       "</g>\n",
       "<!-- 140446053548552&#45;&gt;140446053549224 -->\n",
       "<g class=\"edge\" id=\"edge8\"><title>140446053548552-&gt;140446053549224</title>\n",
       "<path d=\"M251,-336.593C251,-328.118 251,-318.297 251,-309.104\" fill=\"none\" stroke=\"black\"/>\n",
       "<polygon fill=\"black\" points=\"254.5,-309.096 251,-299.096 247.5,-309.096 254.5,-309.096\" stroke=\"black\"/>\n",
       "</g>\n",
       "<!-- 140446053550512 -->\n",
       "<g class=\"node\" id=\"node9\"><title>140446053550512</title>\n",
       "<polygon fill=\"none\" points=\"27,-169 27,-215 475,-215 475,-169 27,-169\" stroke=\"black\"/>\n",
       "<text font-family=\"Times,serif\" font-size=\"14.00\" text-anchor=\"middle\" x=\"171.5\" y=\"-188.3\">bidirectional_52(lstm_52): Bidirectional(LSTM)</text>\n",
       "<polyline fill=\"none\" points=\"316,-169 316,-215 \" stroke=\"black\"/>\n",
       "<text font-family=\"Times,serif\" font-size=\"14.00\" text-anchor=\"middle\" x=\"344\" y=\"-199.8\">input:</text>\n",
       "<polyline fill=\"none\" points=\"316,-192 372,-192 \" stroke=\"black\"/>\n",
       "<text font-family=\"Times,serif\" font-size=\"14.00\" text-anchor=\"middle\" x=\"344\" y=\"-176.8\">output:</text>\n",
       "<polyline fill=\"none\" points=\"372,-169 372,-215 \" stroke=\"black\"/>\n",
       "<text font-family=\"Times,serif\" font-size=\"14.00\" text-anchor=\"middle\" x=\"423.5\" y=\"-199.8\">(None, 149, 60)</text>\n",
       "<polyline fill=\"none\" points=\"372,-192 475,-192 \" stroke=\"black\"/>\n",
       "<text font-family=\"Times,serif\" font-size=\"14.00\" text-anchor=\"middle\" x=\"423.5\" y=\"-176.8\">(None, 60)</text>\n",
       "</g>\n",
       "<!-- 140446053549224&#45;&gt;140446053550512 -->\n",
       "<g class=\"edge\" id=\"edge9\"><title>140446053549224-&gt;140446053550512</title>\n",
       "<path d=\"M251,-252.593C251,-244.118 251,-234.297 251,-225.104\" fill=\"none\" stroke=\"black\"/>\n",
       "<polygon fill=\"black\" points=\"254.5,-225.096 251,-215.096 247.5,-225.096 254.5,-225.096\" stroke=\"black\"/>\n",
       "</g>\n",
       "<!-- 140446053549840 -->\n",
       "<g class=\"node\" id=\"node10\"><title>140446053549840</title>\n",
       "<polygon fill=\"none\" points=\"123.5,-85 123.5,-131 378.5,-131 378.5,-85 123.5,-85\" stroke=\"black\"/>\n",
       "<text font-family=\"Times,serif\" font-size=\"14.00\" text-anchor=\"middle\" x=\"178\" y=\"-104.3\">dense_28: Dense</text>\n",
       "<polyline fill=\"none\" points=\"232.5,-85 232.5,-131 \" stroke=\"black\"/>\n",
       "<text font-family=\"Times,serif\" font-size=\"14.00\" text-anchor=\"middle\" x=\"260.5\" y=\"-115.8\">input:</text>\n",
       "<polyline fill=\"none\" points=\"232.5,-108 288.5,-108 \" stroke=\"black\"/>\n",
       "<text font-family=\"Times,serif\" font-size=\"14.00\" text-anchor=\"middle\" x=\"260.5\" y=\"-92.8\">output:</text>\n",
       "<polyline fill=\"none\" points=\"288.5,-85 288.5,-131 \" stroke=\"black\"/>\n",
       "<text font-family=\"Times,serif\" font-size=\"14.00\" text-anchor=\"middle\" x=\"333.5\" y=\"-115.8\">(None, 60)</text>\n",
       "<polyline fill=\"none\" points=\"288.5,-108 378.5,-108 \" stroke=\"black\"/>\n",
       "<text font-family=\"Times,serif\" font-size=\"14.00\" text-anchor=\"middle\" x=\"333.5\" y=\"-92.8\">(None, 3129)</text>\n",
       "</g>\n",
       "<!-- 140446053550512&#45;&gt;140446053549840 -->\n",
       "<g class=\"edge\" id=\"edge10\"><title>140446053550512-&gt;140446053549840</title>\n",
       "<path d=\"M251,-168.593C251,-160.118 251,-150.297 251,-141.104\" fill=\"none\" stroke=\"black\"/>\n",
       "<polygon fill=\"black\" points=\"254.5,-141.096 251,-131.096 247.5,-141.096 254.5,-141.096\" stroke=\"black\"/>\n",
       "</g>\n",
       "<!-- 140446053551184 -->\n",
       "<g class=\"node\" id=\"node11\"><title>140446053551184</title>\n",
       "<polygon fill=\"none\" points=\"105.5,-1 105.5,-47 396.5,-47 396.5,-1 105.5,-1\" stroke=\"black\"/>\n",
       "<text font-family=\"Times,serif\" font-size=\"14.00\" text-anchor=\"middle\" x=\"171.5\" y=\"-20.3\">reshape_18: Reshape</text>\n",
       "<polyline fill=\"none\" points=\"237.5,-1 237.5,-47 \" stroke=\"black\"/>\n",
       "<text font-family=\"Times,serif\" font-size=\"14.00\" text-anchor=\"middle\" x=\"265.5\" y=\"-31.8\">input:</text>\n",
       "<polyline fill=\"none\" points=\"237.5,-24 293.5,-24 \" stroke=\"black\"/>\n",
       "<text font-family=\"Times,serif\" font-size=\"14.00\" text-anchor=\"middle\" x=\"265.5\" y=\"-8.8\">output:</text>\n",
       "<polyline fill=\"none\" points=\"293.5,-1 293.5,-47 \" stroke=\"black\"/>\n",
       "<text font-family=\"Times,serif\" font-size=\"14.00\" text-anchor=\"middle\" x=\"345\" y=\"-31.8\">(None, 3129)</text>\n",
       "<polyline fill=\"none\" points=\"293.5,-24 396.5,-24 \" stroke=\"black\"/>\n",
       "<text font-family=\"Times,serif\" font-size=\"14.00\" text-anchor=\"middle\" x=\"345\" y=\"-8.8\">(None, 149, 21)</text>\n",
       "</g>\n",
       "<!-- 140446053549840&#45;&gt;140446053551184 -->\n",
       "<g class=\"edge\" id=\"edge11\"><title>140446053549840-&gt;140446053551184</title>\n",
       "<path d=\"M251,-84.5931C251,-76.1177 251,-66.2974 251,-57.104\" fill=\"none\" stroke=\"black\"/>\n",
       "<polygon fill=\"black\" points=\"254.5,-57.0958 251,-47.0959 247.5,-57.0959 254.5,-57.0958\" stroke=\"black\"/>\n",
       "</g>\n",
       "</g>\n",
       "</svg>"
      ],
      "text/plain": [
       "<IPython.core.display.SVG object>"
      ]
     },
     "execution_count": 117,
     "metadata": {},
     "output_type": "execute_result"
    }
   ],
   "source": [
    "vae = Model(io_encoder, io_decoder)\n",
    "vae.compile(optimizer=\"adam\", loss=vae_loss)\n",
    "vae.summary()\n",
    "SVG(model_to_dot(vae, show_shapes=True).create(prog='dot', format='svg'))"
   ]
  },
  {
   "cell_type": "code",
   "execution_count": null,
   "metadata": {},
   "outputs": [],
   "source": []
  },
  {
   "cell_type": "code",
   "execution_count": 111,
   "metadata": {},
   "outputs": [],
   "source": [
    "# Split dataset into train/test:\n",
    "x_train, x_test = train_test_split(onehot_tensor, test_size=0.1, shuffle=True)\n",
    "sl = len(x_train) // (batch_size*10)\n",
    "sl = sl // 10\n",
    "x_train = x_train[:(sl*batch_size*10)]"
   ]
  },
  {
   "cell_type": "code",
   "execution_count": null,
   "metadata": {},
   "outputs": [],
   "source": []
  },
  {
   "cell_type": "code",
   "execution_count": null,
   "metadata": {},
   "outputs": [
    {
     "name": "stdout",
     "output_type": "stream",
     "text": [
      "Train on 129600 samples, validate on 14400 samples\n",
      "Epoch 1/2\n",
      "129600/129600 [==============================] - 1338s - loss: 2997.4940 - val_loss: 2791.0774\n",
      "Epoch 2/2\n",
      " 64600/129600 [=============>................] - ETA: 652s - loss: 2790.6839"
     ]
    }
   ],
   "source": [
    "nb_epoch = 2\n",
    "early_stopping = EarlyStopping(monitor='val_loss', patience=5)\n",
    "vae_log = vae.fit(x_train,\n",
    "                  x_train,  # VAE is unsupervised so y=X\n",
    "                  shuffle=True,\n",
    "                  epochs=nb_epoch,\n",
    "                  batch_size=batch_size,\n",
    "                  validation_split=0.1,\n",
    "                  callbacks=[early_stopping])"
   ]
  },
  {
   "cell_type": "code",
   "execution_count": null,
   "metadata": {},
   "outputs": [],
   "source": [
    "# loss before fail: 2636"
   ]
  },
  {
   "cell_type": "code",
   "execution_count": null,
   "metadata": {},
   "outputs": [],
   "source": []
  },
  {
   "cell_type": "code",
   "execution_count": null,
   "metadata": {},
   "outputs": [],
   "source": [
    "vae.save('lstm_vae.h5')\n",
    "#vae.load_weights('lstm_vae.h5')"
   ]
  },
  {
   "cell_type": "code",
   "execution_count": null,
   "metadata": {},
   "outputs": [],
   "source": []
  },
  {
   "cell_type": "code",
   "execution_count": 44,
   "metadata": {},
   "outputs": [
    {
     "name": "stdout",
     "output_type": "stream",
     "text": [
      "(1000, 10)\n"
     ]
    }
   ],
   "source": [
    "x_test_encoded = encoder.predict(x_test)\n",
    "print(x_test_encoded.shape)"
   ]
  },
  {
   "cell_type": "code",
   "execution_count": 45,
   "metadata": {},
   "outputs": [
    {
     "name": "stdout",
     "output_type": "stream",
     "text": [
      "(1000, 149, 21)\n"
     ]
    }
   ],
   "source": [
    "x_test_decoded = decoder.predict(x_test_encoded)\n",
    "print(x_test_decoded.shape)"
   ]
  },
  {
   "cell_type": "code",
   "execution_count": null,
   "metadata": {},
   "outputs": [],
   "source": []
  },
  {
   "cell_type": "code",
   "execution_count": 46,
   "metadata": {},
   "outputs": [
    {
     "name": "stdout",
     "output_type": "stream",
     "text": [
      "This \"148.9999896287918\" should be close to 149.\n"
     ]
    }
   ],
   "source": [
    "# Normalize decoded output:\n",
    "for i in range(len(x_test_decoded)):\n",
    "    x_test_decoded[i] = normalize(x_test_decoded[i], axis=1, norm='l1')\n",
    "print('This \"{}\" should be close to {}.'.format(sum(sum(x_test_decoded[0])), x_test_decoded.shape[1]))"
   ]
  },
  {
   "cell_type": "code",
   "execution_count": 47,
   "metadata": {},
   "outputs": [],
   "source": [
    "x_test_decoded_onehot = np.zeros(x_test_decoded.shape)\n",
    "for i in range(x_test_decoded.shape[0]):\n",
    "    for j in range(x_test_decoded.shape[1]):\n",
    "        mi = x_test_decoded[i][j].argmax()\n",
    "        x_test_decoded_onehot[i][j][mi] = 1"
   ]
  },
  {
   "cell_type": "code",
   "execution_count": 48,
   "metadata": {},
   "outputs": [
    {
     "data": {
      "text/plain": [
       "array([[ 0.,  0.,  0.,  0.,  0.,  0.,  0.,  0.,  0.,  0.,  0.,  0.,  0.,\n",
       "         1.,  0.,  0.,  0.,  0.,  0.,  0.,  0.],\n",
       "       [ 0.,  0.,  0.,  0.,  0.,  0.,  0.,  0.,  0.,  0.,  0.,  0.,  0.,\n",
       "         0.,  0.,  0.,  0.,  1.,  0.,  0.,  0.],\n",
       "       [ 0.,  0.,  0.,  0.,  0.,  0.,  0.,  0.,  0.,  0.,  0.,  0.,  0.,\n",
       "         1.,  0.,  0.,  0.,  0.,  0.,  0.,  0.],\n",
       "       [ 0.,  0.,  0.,  0.,  0.,  0.,  0.,  0.,  0.,  1.,  0.,  0.,  0.,\n",
       "         0.,  0.,  0.,  0.,  0.,  0.,  0.,  0.],\n",
       "       [ 0.,  0.,  0.,  0.,  0.,  0.,  0.,  0.,  0.,  0.,  0.,  0.,  0.,\n",
       "         0.,  0.,  0.,  0.,  1.,  0.,  0.,  0.],\n",
       "       [ 0.,  0.,  0.,  1.,  0.,  0.,  0.,  0.,  0.,  0.,  0.,  0.,  0.,\n",
       "         0.,  0.,  0.,  0.,  0.,  0.,  0.,  0.],\n",
       "       [ 0.,  0.,  0.,  0.,  0.,  0.,  0.,  0.,  0.,  0.,  0.,  0.,  0.,\n",
       "         0.,  0.,  1.,  0.,  0.,  0.,  0.,  0.],\n",
       "       [ 0.,  0.,  0.,  0.,  0.,  0.,  0.,  0.,  0.,  0.,  0.,  0.,  0.,\n",
       "         0.,  0.,  0.,  0.,  0.,  0.,  0.,  1.],\n",
       "       [ 0.,  0.,  0.,  0.,  0.,  1.,  0.,  0.,  0.,  0.,  0.,  0.,  0.,\n",
       "         0.,  0.,  0.,  0.,  0.,  0.,  0.,  0.],\n",
       "       [ 0.,  0.,  0.,  0.,  0.,  1.,  0.,  0.,  0.,  0.,  0.,  0.,  0.,\n",
       "         0.,  0.,  0.,  0.,  0.,  0.,  0.,  0.]])"
      ]
     },
     "execution_count": 48,
     "metadata": {},
     "output_type": "execute_result"
    }
   ],
   "source": [
    "x_test_decoded_onehot[1][0:10]"
   ]
  },
  {
   "cell_type": "code",
   "execution_count": 49,
   "metadata": {},
   "outputs": [],
   "source": [
    "seqs_test = onehot2seq(x_test)"
   ]
  },
  {
   "cell_type": "code",
   "execution_count": 50,
   "metadata": {},
   "outputs": [],
   "source": [
    "seqs_test_decoded = onehot2seq(x_test_decoded_onehot)"
   ]
  },
  {
   "cell_type": "code",
   "execution_count": 51,
   "metadata": {},
   "outputs": [
    {
     "name": "stdout",
     "output_type": "stream",
     "text": [
      "QVQLVQS-GAEVKKPGASVKVSCKASG-YTFTN-----YGISWVRQAPGQGLEWMGWISAY---NGNTNYAQKLQGRVTMTTDTSTSTAYMELRSLRSDDTAMYYCASVCSTT-------------------SCQLDYWGQGTLVTVSS\n",
      "QVQLVES-GGGLVKPGGSLRLSCAASG-FTFSS-----YAMSWVRQAPGKGLEWVGVISY----GGSTYYADSVKGRFTISRDNSKNTLYLQMNSLRAEDTAVYYCARDGGGG-------------------YYGFDYWGQGTLVTVSS\n",
      "EVQLLES-GGGLVQPGGSLRLSCAASG-FTFSS-----YAMSWVRQAPGKGLEWVSAISGS---GGSTYYADSVKGRFTISRDNSKNTLYLQMNSLRAEDTAVYYCARKTVVTP------------------IPYFDYWGQGTLVTVSS\n",
      "QVQLVES-GGGLVKPGGSLRLSCAASG-FTFSS-----YAMSWVRQAPGKGLEWVGVISY----GGSTYYADSVKGRFTISRDNSKNTLYLQMNSLRAEDTAVYYCARDGGGG-------------------YYGFDYWGQGTLVTVSS\n",
      "QVQLVQS-GAEVKKAGSSVKVSCKASG-GTLSS-----YVISWVRQAPGQGLEWMGRIIPV---LNRTNYAQKFQGRVTVTADKSTSTAYMELSSLRFDDTAVYYCARDNSGW--------------------SLHDYWGQGTLVTVSS\n",
      "QVQLVES-GGGLVKPGGSLRLSCAASG-FTFSS-----YAMSWVRQAPGKGLEWVGVISY----GGSTYYADSVKGRFTISRDNSKNTLYLQMNSLRAEDTAVYYCARDGGGG-------------------YYGFDYWGQGTLVTVSS\n",
      "EVQLVES-GGGLVKPGGSLRLSCAASG-FTFSS-----YSMNWVRQAPGKGLEWVSSISSS---SSYIYYADSVKGRFTISRDNAKNSLYLQMNSLRAEDTAVYYCARYPPGGS------------------YWVFDYWGQGTLVTVSS\n",
      "QVQLVES-GGGLVKPGGSLRLSCAASG-FTFSS-----YAMSWVRQAPGKGLEWVGVISY----GGSTYYADSVKGRFTISRDNSKNTLYLQMNSLRAEDTAVYYCARDGGGG-------------------YYGFDYWGQGTLVTVSS\n",
      "QVQLQES-GPGLVKPSETLSLTCTVSG-GSISS-----YYWSWIRQPAGKGLEWIGRIYT----SGSTNYNPSLKSRVTMSVDTSKNQFSLKLSSVTAADTAVYYCAGDLDYYDS----------------SGPPLDYWGQGTLVTVSS\n",
      "QVQLVES-GGGLVKPGGSLRLSCAASG-FTFSS-----YAMSWVRQAPGKGLEWVGVISY----GGSTYYADSVKGRFTISRDNSKNTLYLQMNSLRAEDTAVYYCARDGGGG-------------------YYGFDYWGQGTLVTVSS\n",
      "QVQLQES-GPGLVKPSQTLSLTCTVSG-GSISSG---DYYWSWIRQPPGKGLEWIGYIYY----SGSTYYNPSLKSRVTISVDTSKNQFSLKLSSVTAADTAVYYCARGELMTT-----------------KENWFDPWGQGTLVTVSS\n",
      "QVQLVES-GGGLVKPGGSLRLSCAASG-FTFSS-----YAMSWVRQAPGKGLEWVGVISY----GGSTYYADSVKGRFTISRDNSKNTLYLQMNSLRAEDTAVYYCARDGGGG-------------------YYGFDYWGQGTLVTVSS\n",
      "QIQLQQS-GPGLVKPSQTLSITCAISG-DSVSNN---RAAWNWIRQSPSRGLEWLGRTYYR--SRWSNDYAVSVKSRITINPDTSKNQFSLQLNSVTPEDTAVYYCAREPDD---------------------SGMDVWGQGTTVTVSS\n",
      "QVQLVES-GGGLVKPGGSLRLSCAASG-FTFSS-----YAMSWVRQAPGKGLEWVGVISY----GGSTYYADSVKGRFTISRDNSKNTLYLQMNSLRAEDTAVYYCARDGGGG-------------------YYGFDYWGQGTLVTVSS\n",
      "QLQLQES-GSGLVKPSQTLSLTCAVSG-GSISSG---GYSWSWIRQPPGKGLEWIGYIYH----SGSTYYNPSLKSRVTISVDRSKNQFSLKLSSVTAADTAVYYCARGGGVLLWFGE----------TKGEHWWFDPWGQGTLVTVSS\n",
      "QVQLVES-GGGLVKPGGSLRLSCAASG-FTFSS-----YAMSWVRQAPGKGLEWVGVISY----GGSTYYADSVKGRFTISRDNSKNTLYLQMNSLRAEDTAVYYCARDGGGG-------------------YYGFDYWGQGTLVTVSS\n",
      "EVQLLES-GGGLVQPGGSLRLSCAASG-FTFSS-----YAMSWVRQAPGKGLEWVSAISGS---GGSTYYADSVKGRFTISRDNSKNTLYLQMNSLRAEDTAVYYCAKPPIS----------------------GFDYWGQGTLVTVSS\n",
      "QVQLVES-GGGLVKPGGSLRLSCAASG-FTFSS-----YAMSWVRQAPGKGLEWVGVISY----GGSTYYADSVKGRFTISRDNSKNTLYLQMNSLRAEDTAVYYCARDGGGG-------------------YYGFDYWGQGTLVTVSS\n",
      "AVQLLQS-GGGLVQPGESLRLSCGVSG-FTFPK-----YAMAWVRQTPGKGLEWVSIISYS---GNTTYYSDSVKGRFTISRDNSNNTLHLQMNSLGVEDTAVYYCGKTMFNT-------------------LVVVEDWGQGTPVTVSS\n",
      "QVQLVES-GGGLVKPGGSLRLSCAASG-FTFSS-----YAMSWVRQAPGKGLEWVGVISY----GGSTYYADSVKGRFTISRDNSKNTLYLQMNSLRAEDTAVYYCARDGGGG-------------------YYGFDYWGQGTLVTVSS\n"
     ]
    }
   ],
   "source": [
    "for i in range(10):\n",
    "    print(seqs_test[i])\n",
    "    print(seqs_test_decoded[i])"
   ]
  },
  {
   "cell_type": "code",
   "execution_count": null,
   "metadata": {},
   "outputs": [],
   "source": []
  },
  {
   "cell_type": "code",
   "execution_count": 52,
   "metadata": {},
   "outputs": [
    {
     "data": {
      "text/plain": [
       "array([[-1.69093931, -0.5660376 ,  2.72131729, ..., -7.01782131,\n",
       "        -2.86374974,  3.75052333],\n",
       "       [-1.69010699, -0.56717044,  2.72074556, ..., -7.01766157,\n",
       "        -2.8636024 ,  3.7507093 ],\n",
       "       [-1.69093883, -0.56603771,  2.72131753, ..., -7.01782084,\n",
       "        -2.8637495 ,  3.75052333],\n",
       "       ..., \n",
       "       [-1.69010699, -0.56717044,  2.72074556, ..., -7.01766157,\n",
       "        -2.8636024 ,  3.7507093 ],\n",
       "       [-1.69011486, -0.56716675,  2.72073889, ..., -7.01766109,\n",
       "        -2.86360621,  3.75072026],\n",
       "       [-1.690871  , -0.5660916 ,  2.72136807, ..., -7.01786423,\n",
       "        -2.86370587,  3.75039577]], dtype=float32)"
      ]
     },
     "execution_count": 52,
     "metadata": {},
     "output_type": "execute_result"
    }
   ],
   "source": [
    "x_test_encoded"
   ]
  },
  {
   "cell_type": "code",
   "execution_count": null,
   "metadata": {},
   "outputs": [],
   "source": []
  },
  {
   "cell_type": "code",
   "execution_count": null,
   "metadata": {},
   "outputs": [],
   "source": []
  },
  {
   "cell_type": "code",
   "execution_count": 53,
   "metadata": {},
   "outputs": [],
   "source": [
    "kkg = np.random.normal(0, 1, size=(100,10))"
   ]
  },
  {
   "cell_type": "code",
   "execution_count": 54,
   "metadata": {},
   "outputs": [],
   "source": [
    "kkgd = decoder.predict(kkg)"
   ]
  },
  {
   "cell_type": "code",
   "execution_count": 55,
   "metadata": {},
   "outputs": [
    {
     "name": "stdout",
     "output_type": "stream",
     "text": [
      "This \"148.9999885559082\" should be close to 149.\n"
     ]
    }
   ],
   "source": [
    "# Normalize decoded output:\n",
    "for i in range(len(kkgd)):\n",
    "    kkgd[i] = normalize(kkgd[i], axis=1, norm='l1')\n",
    "print('This \"{}\" should be close to {}.'.format(sum(sum(kkgd[0])), kkgd.shape[1]))"
   ]
  },
  {
   "cell_type": "code",
   "execution_count": 56,
   "metadata": {},
   "outputs": [],
   "source": [
    "kkgd_onehot = np.zeros(kkgd.shape)\n",
    "for i in range(kkgd.shape[0]):\n",
    "    for j in range(kkgd.shape[1]):\n",
    "        mi = kkgd[i][j].argmax()\n",
    "        kkgd_onehot[i][j][mi] = 1"
   ]
  },
  {
   "cell_type": "code",
   "execution_count": 57,
   "metadata": {},
   "outputs": [
    {
     "data": {
      "text/plain": [
       "array([ 0.,  0.,  0.,  0.,  0.,  0.,  0.,  0.,  0.,  0.,  0.,  0.,  0.,\n",
       "        0.,  0.,  1.,  0.,  0.,  0.,  0.,  0.])"
      ]
     },
     "execution_count": 57,
     "metadata": {},
     "output_type": "execute_result"
    }
   ],
   "source": [
    "kkgd_onehot[0][0]"
   ]
  },
  {
   "cell_type": "code",
   "execution_count": 58,
   "metadata": {},
   "outputs": [],
   "source": [
    "l = onehot2seq(kkgd_onehot)"
   ]
  },
  {
   "cell_type": "code",
   "execution_count": 59,
   "metadata": {},
   "outputs": [
    {
     "name": "stdout",
     "output_type": "stream",
     "text": [
      "> 0\n",
      "STFAWVIYMWYYIYHTLSQMLQGCYCGHWWCRPWMPYHYCYQALISMDLQWQTFWCCKFCKCKNCEGNIQYCPCWFQWFYWCQHLWDWMQKKQMQNTEHPDCDTWWQMMMQMGYSDCYWQCY\n",
      "> 1\n",
      "STFAWWVIYMLYYIYCGLSQMLQGCYMCGHWWCRPWMPYHTECYQALISMDLQWQTFWCCKFCKCKNCWGNIQYCNCWFQWCFYWCQHLWDAWMQKKQMMNTEHPDCDTWWQMMMQMGYSDCYWQCY\n",
      "> 2\n",
      "STFAWVIYMWYYIYHGLFQMLQGCYMCGHWWCRPWMPYHTYCYQALISMDLQWQTFWCCKFCKCKNCWGNIQYCNCWFQWFYWCQHLWDAWMQKKQMMITEHPDCDTWWQMMMQMGYSDCYWQCY\n",
      "> 3\n",
      "STFAWVIYMWYYIYHGLSQMLQGCYMQGHWWCRPWMPYHYCYQALISMDLQWQTFWCCKFCKCKNCWGNIQYCNCWFQWFYWCQHLWDWMQKKQMMITEHPDCDTWWQMMMQMGYSDCYWQCY\n",
      "> 4\n",
      "STFAWVIYMWYYIYCGLFQMLQGCYMCGHWWCRPWMPYHYCYQALISMDLQWQTFWCCKFCKCKNCWGNIQYCNNCWFQWFYWCQDLWDWMQKKQMMITEHPDCDTWWQMMMQMGYSDCYWQCY\n",
      "> 5\n",
      "STFAWVIYMWYYIYCGLFQMLQGCYMCGHWWCRPWMPYHYCYQALISMDLQWQTFWCCKFCKCKNCEGNIQYCNCWFQWCFYWCQHLWDAWMQKKQMMNTEHPDCDTWWQMMMQMGYSDCYWQCY\n",
      "> 6\n",
      "STFAWVIYMWYYIYHGLFQMLQGCYMCGHWWCRPWMPYHYCYQALISMDLQWQTFWCCKFCKCKNCWGNIQYCNNCWFQWFYWCQHLWDWMQKKQMMITEHPDCDTWWQMMMQMGYSDCYWQCY\n",
      "> 7\n",
      "STFAWVIYMLYYIYCGLFQMLQGCYMCGHWWCRPWMPYHYCYQALISMDLQWQTFWCCKFCKCKNCEGNIQYCNNCWFQWCFYWCQHLWDAWMQKKQMQNTEHPDCDTWWQMMMQMGYSDCYWQCY\n",
      "> 8\n",
      "STFAWWVIYMLYYIYHTLSQMLQGCYCGHWWCRPWMPYHYCYQALISMDLQWQTFWCCKFCKCKNCEGNIQYCNCWFQWCFYWCQHLWDAWMQKKQMMITEHPDCDTWWQMMMQMGYSDCYWQCY\n",
      "> 9\n",
      "STFAWWVIYMLYYIYCTLSQMLQGCYCGHWWCRPWMPYHECYQALISMDLQWQTFWCCKYFCKCKNCEGNIQYCNCWFQWCFYWCQHLWDGWMHKKQMMNTEHPDCDTWWQMMMQMGYSDCYWQCY\n",
      "> 10\n",
      "STFAWVIYMLYYIYHGLSQMLQGCYQGHWWCRPWMPYHTYCYQYLISMDLQWQTFWCCKYFCKCKNCWGNIQYCNNCWFQWFYWCQHLWDWMQKKQMQITEHPDCDTMWQMMMQMGYSDCYWQCY\n",
      "> 11\n",
      "QVQLVESGGGLVKPGGSLRLSCAASGFTFSSYAMSWVRQAPGKGLEWVGVISYGGSTYYADSVKGRFTISRDNSKNTLYLQMNSLRAEDTAVYYCARDGGGGYYGFDYWGQGTLVTVSS\n",
      "> 12\n",
      "STFAWVIYMLYYIYHGLFQMLQGCYMQGHWWCRPWIMPYHEYCYQALISMDLQWQTFWCCKFCKCKNCWGNIQYWNNCWFQWFYWCQHLWDAWMQKKQMMNTEFPDCDTWWQMMMQMGYSDCYWQCY\n",
      "> 13\n",
      "STFAWVIYMLYYIYHGLSQMLQGCYMQGHWWCRPWMPYHEECYQALISMDLQWQTFWCCKFCKCKNCEGNIQYCNCWFQWCFYWCQHLWDAWMQKKQMMITEFPDCDTWWQMMMQMGYSDCYWQCY\n",
      "> 14\n",
      "QVQLVESGGGLVKPGGSLRLSCAASGFTFSSYAMSWVRQAPGKGLEWVGVISYGGSTYYADSVKGRFTISRDNSKNTLYLQMNSLRAEDTAVYYCARDGGGGYYGFDYWGQGTLVTVSS\n",
      "> 15\n",
      "STFAWVIYMWYYIYCGLSQMLQGCYCGHWWCRPWMPYHTECYQYLISMDLQWQTFWCCKFCKCKNCEGNIQYCNNCWFQWCFYWCQHLWDWMQKKQMMNTEHPDCDTWWQMMMQMGYSDCYWQCY\n",
      "> 16\n",
      "QVQLVESGGGLVKPGGSLRLSCAASGFTFSSYAMSWVRQAPGKGLEWVGVISYGGSTYYADSVKGRFTISRDNSKNTLYLQMNSLRAEDTAVYYCARDGGGGYYGFDYWGQGTLVTVSS\n",
      "> 17\n",
      "QVQLVESGGGLVKPGGSLRLSCAASGFTFSSYAMSWVRQAPGKGLEWVGVISYGGSTYYADSVKGRFTISRDNSKNTLYLQMNSLRAEDTAVYYCARDRGGSYYGFDYWGQGTLVTVSS\n",
      "> 18\n",
      "QVQLVESGGGLVKPGGSLRLSCAASGFTFSSYAMSWVRQAPGKGLEWVGVISYGGSTYYADSVKGRFTISRDNSKNTLYLQMNSLRAEDTAVYYCARDGGGGYYGFDYWGQGTLVTVSS\n",
      "> 19\n",
      "STFAWWVIYMWYYIYCGLSQMLQGCYMCGHWWCRPWMPYHTECYQALISMDLQWQTFWCCKFCKCKNCWGNIQYCNCWFQWFYWCQHLWDWMQKKQMMNTEFPDCDTWWQMMMQMGYSDCYWQCY\n",
      "> 20\n",
      "STFAWVIYMLYYIYHGLSQMLQGCYQGHWWCRPWMPYHYCYQALISMDLQWQTFWCCKYFCKCKNCEGNIQYCNCWFQWFYWCQHLWDWMQKKQMMITEHPDCDTWWQMMMQMGYSDCYWQCY\n",
      "> 21\n",
      "STFAWVIYMLYYIYHGLSQMLQGCYMCGHWWCRPWMPYHEECYQALISMDLQWQTFWCCKFCKCKNCEGNIQYCNCWFQWCFYWCQHLWDAWMQKKQMQITEHPDCDTWWQMMMQMGYSDCYWQCY\n",
      "> 22\n",
      "STFAWVIYMWYYIYCGLFQMLQGCYMCGHWWCRPWMPYHTYCYQALISMDLQWQTFWCCKFCKCKNCWGNIQYCNCWFQWFYWCQHLWDAWMQKKQMMITEFPDCDTWWQMMMQMGYSDCYWQCY\n",
      "> 23\n",
      "QVQLVESGGGLVKPGGSLRLSCAASGFTFSSYAMSWVRQAPGKGLEWVGVISYGGSTYYADSVKGRFTISRDNSKNTLYLQMNSLRAEDTAVYYCARDGGGGYYGFDYWGQGTLVTVSS\n",
      "> 24\n",
      "QVQLVESGGGLVKPGGSLRLSCAASGFTFSSYAMSWVRQAPGKGLEWVGVISYGGSTYYADSVKGRFTISRDNSKNTLYLQMNSLRAEDTAVYYCARDGGGGYYGFDYWGQGTLVTVSS\n",
      "> 25\n",
      "QVQLVESGGGLVKPGGSLRLSCAASGFTFSSYAMSWVRQAPGKGLEWVGVISYGGSTYYADSVKGRFTISRDNSKNTLYLQMNSLRAEDTAVYYCARDGGGGYYGFDYWGQGTLVTVSS\n",
      "> 26\n",
      "QVQLVESGGGLVKPGGSLRLSCAASGFTFSSYAMSWVRQAPGKGLEWVGVISYGGSTYYADSVKGRFTISRDNSKNTLYLQMNSLRAEDTAVYYCARDGGGGYYGFDYWGQGTLVTVSS\n",
      "> 27\n",
      "QVQLVESGGGLVKPGGSLRLSCAASGFTFSSYAMSWVRQAPGKGLEWVGVISYGGSTYYADSVKGRFTISRDNSKNTLYLQMNSLRAEDTAVYYCARDGGGGYYGFDYWGQGTLVTVSS\n",
      "> 28\n",
      "QVQLVESGGGLVKPGGSLRLSCAASGFTFSSYAMSWVRQAPGKGLEWVGVISYGGSTYYADSVKGRFTISRDNSKNTLYLQMNSLRAEDTAVYYCARDGGGSYGFDYWGQGTLVTVSS\n",
      "> 29\n",
      "STFAWVIYMWYYIYHTLSQMLQGCYMCGHWWCRPWMPYHECYQALISMDLQWQTFWCCKFCKCKNCEGNIQYCNCWFQWCFYWCQHLWDAWMQKKQMQNTEHPDCDTWWQMMMQMGYSDCYWQCY\n",
      "> 30\n",
      "QVQLVESGGGLVKPGESLSLSCAASGFTFSSYAMSWVRQAPGKGLEWVGVISYSGGSTYYADSVKGRFTISRDNSKNTLYLQMNSLRAEDTAVYYCARDGGGSYGFDYWGQGTLVTVSS\n",
      "> 31\n",
      "QVQLVESGGGLVKPGESLSLSCAASGFTFSSYAMSWVRQAPGKGLEWVGVISYSGGSTYYADSVKGRFTISRDNSKNTLYLQMNSLRAEDTAVYYCARDGGGSYGFDYWGQGTLVTVSS\n",
      "> 32\n",
      "QVQLVESGGGLVKPGGSLRLSCAASGFTFSSYAMSWVRQAPGKGLEWVGVISYGGSTYYADSVKGRFTISRDNSKNTLYLQMNSLRAEDTAVYYCARDGGGGYYGFDYWGQGTLVTVSS\n",
      "> 33\n",
      "QVQLVESGGGLVKPGGSLRLSCAASGFTFSSYAMSWVRQAPGKGLEWVGVISYGGSTYYADSVKGRFTISRDNSKNTLYLQMNSLRAEDTAVYYCARDGGGGYYGFDYWGQGTLVTVSS\n",
      "> 34\n",
      "STFAWVIYMWYYIYHGLFQMLQGCYMCGHWWCRPWMPYHTYCYQALISMDLQWQTFWCCKFCKCKNCWGNIQYCNCWFQWFYWCQHLWDWMQKKQMMITEHPDCDTWWQMMMQMGYSDCYWQCY\n",
      "> 35\n",
      "QVQLVESGGGLVKPGGSLRLSCAASGFTFSSYAMSWVRQAPGKGLEWVGVISYSGGSTYYADSVKGRFTISRDNSKNTLYLQMNSLRAEDTAVYYCARDGGGSYYGFDYWGQGTLVTVSS\n",
      "> 36\n",
      "QVQLVESGGGLVKPGGSLRLSCAASGFTFSSYAMSWVRQAPGKGLEWVGVISYGGSTYYADSVKGRFTISRDNSKNTLYLQMNSLRAEDTAVYYCARDGGGGYYGFDYWGQGTLVTVSS\n",
      "> 37\n",
      "STFAWVIYMWYYIYCGLSQMLQGCYMCGHWWCRPWMPYHYCYQALISMDLQWQTFWCCKFCKCKNCWGNIQYCNNCWFQWCFYWCQDLWDWMQKKQMMNTEFPDCDTWWQMMMQMGYSDCYWQCY\n",
      "> 38\n",
      "STFAWWVIYMWYYIYHGLFQMLQGCYMCGHWWCRPWMPYHTECYQALISMDLQWQTFWCCKFKCKNCWGNIQYWGNCWFQWCFYWQQHLWDAWMQKKQMMITEFPDCDTMWQMMMQMGYSDCYWQCY\n",
      "> 39\n",
      "QVQLVESGGGLVKPGGSLRLSCAASGFTFSSYAMSWVRQAPGKGLEWVGVISYSGGSTYYADSVKGRFTISRDNSKNTLYLQMNSLRAEDTAVYYCARDRGGGYYGFDYWGQGTLVTVSS\n",
      "> 40\n",
      "STFAWVIYMWYYIYHGLFQMLQGCYMQGHWWCRPWMPYHTYCYQALISMDLQWQTFWCCKFCKCKNCWGNIQYCNCWFQWFYWCQHLWDWMQKKQMMITEFPDCDTWWQMMMQMGYSDCYWQCY\n",
      "> 41\n",
      "STFAWVIYMLYYIYHTLSQMLQGCYQGHWWCRPWMPYHEECYQALISMDLQWQTFWCCKFCKCKNCWGNIQYCNCWFQWFYWCQHLWDWMHKKQMMNTEHPDCDTMWQMMMQMGYSDCYWQCY\n",
      "> 42\n",
      "STFAWVIYMWYYIYHTLSQMLQGCYCGHWWCRPWMPYHECYQALISMDLQWQTFWCCKFCKCKNCEGNIQYCNCWFQWFYWCQHLWDAWMQKKQMQNTEHPDCDTWWQMMMQMGYSDCYWQCY\n",
      "> 43\n",
      "STFAWVIYMLYYIYHGLSQMLQGCYCGHWWCRPWMPYHTECYQALISMDLQWQTFWCCKFCKCKNCWGNIQYCNNCWFQWFYWCQHLWDWMQKKQMMITEFPDCDTWWQMMMQMGYSDCYWQCY\n",
      "> 44\n",
      "STFAWVIYMLYYIYHGLSQMLQGCYCGHWWCRPWMPYHTECYQALISMDLQWQTFWCCAYFLKCKNCWGNIQYCNCWFQWCFYWCQHLWDAWMHKKQMQNTEHPDCDTWWQMMMQMGYSDCYWQCY\n",
      "> 45\n",
      "QVQLVESGGGLVKPGGSLRLSCAASGFTFSSYAMSWVRQAPGKGLEWVGVISYGGSTYYADSVKGRFTISRDNSKNTLYLQMNSLRAEDTAVYYCARDGGGGYYGFDYWGQGTLVTVSS\n",
      "> 46\n",
      "QVQLVESGGGLVKPGESLSLSCAASGFTFSSYAMSWVRQAPGKGLEWVGVISYSGGSTYYADSVKGRFTISRDNSKNTLYLQMNSLRAEDTAVYYCARDGGGSYGFDYWGQGTLVTVSS\n",
      "> 47\n",
      "STFAWVIYMWYYIYCTLSQMLQGCYCGHWWCRPWMPYHEECYQALISMDLQWQTFWCCAFCKCKNCWGNIQWCNCWFQWCFYWCQHLWDAWMQKKQMQNTEHPDCDTWWQMMMMMGYSDCYWQCY\n",
      "> 48\n",
      "QVQLVESGGGLVQPGGSLRLSCAASGFTFSSYAMSWVRQAPGKGLEWVGVISYGGSTYYADSVKGRVTISRDNSKNTLYLQMNSLRAEDTAVYYCARDGGGSYGFDYWGQGTLVTVSS\n",
      "> 49\n",
      "QVQLVESGGGLVKPGGSLRLSCAASGFTFSSYAMSWVRQAPGKGLEWVGRISYGGSTYYADSVKGRFTISRDNSKNTLYLQMNSLRAEDTAVYYCARDLGYYYGFDYWGQGTLVTVSS\n",
      "> 50\n",
      "QVQLVESGGGLVKPGGSLRLSCAASGFTFSSYAMSWVRQAPGKGLEWVGVISYGGSTYYADSVKGRFTISRDNSKNTLYLQMNSLRAEDTAVYYCARDGGGGYYGFDYWGQGTLVTVSS\n",
      "> 51\n",
      "STFAWVIYMLYYIYHGLFQMLQGCYMCGHWWCRPWIMPYHYCYQYLISMDLQWQTFWCCKFKCKNCWGWIQHWNNCWFQWFYWCQHLWDWMHKKQMMITEHPDCDTWWQMMMQMGYSDCYWQCY\n",
      "> 52\n",
      "STFAWVIYMLYYIYHGLSQMLQGCYCGHWWCRPWMPYHEECYQALISMDLQWQTFWCCKFCKCKNCEGNIQYCNPCWFQWCFYWCQHLWDAWMHKKQMQNTEHPDCDTWWQMMMQMGYSDCYWQCY\n",
      "> 53\n",
      "QVQLVESGGGLVKPGGSLRLSCAASGFTFSSYAMSWVRQAPGKGLEWVGRISYGGSTYYADSVKGRFTISRDNSKNTLYLQMNSLRAEDTAVYYCARDLGYYYGFDYWGQGTLVTVSS\n",
      "> 54\n",
      "STFAWVIYMWYYIYHGLSQMLQGCYMQGHWWCRPWMPYHEECYQALISMDLQWQTFWCCKFCKCKNCWGNIQYCNCWFQWCFYWCQHLWDAWMQKKQMQITEHPDCDTWWQMMMQMGYSDCYWQCY\n",
      "> 55\n",
      "STFAWWVIYMLYYIYCGLSQMLQGCYCGHWWCRPWMPYHTECYQALISMDLQWQTFWCCKFCKCKNCEGNIQYCNCWFQWCFYWCQHLWDWMQKKQMMNTEHPDCDTWWQMMMQMGYSDCYWQCY\n",
      "> 56\n",
      "QVQLVESGGGLVKPGGSLRLSCAASGFTFSSYAMSWVRQAPGKGLEWVGVISYGGSTYYADSVKGRFTISRDNSKNTLYLQMNSLRAEDTAVYYCARDGGGGYYGFDYWGQGTLVTVSS\n",
      "> 57\n",
      "STFAWWVIYMLYYIYCGLSQMLQGCYMCGHWWCRPWMPYHTECYQYLISMDLQWQTFWCCKFCKCKNCEGNIQYCNCWFQWFYWCQHLWDAWMQKKQMMNTEFPDCDTWWQMMMQMGYSDCYWQCY\n",
      "> 58\n",
      "STFAWWVIYMLYYIYHTLSQMLQGCYMCGHWWCRPWMPYHEYCYQYLIFMDLQWQTFWCCKFCKCKNCEGNIQYWNCWFQWFYWCQHLWDWMQKKQMMITEHPDCDTMWQMMMQMGYSDCYWQCY\n",
      "> 59\n",
      "QVQLVESGGGLVKPGGSLRLSCAASGFTFSSYAMSWVRQAPGKGLEWVGVISYGGSTYYADSVKGRFTISRDNSKNTLYLQMNSLRAEDTAVYYCARDGGGGYYGFDYWGQGTLVTVSS\n",
      "> 60\n",
      "QVQLVESGGGLVKPGGSLRLSCAASGFTFSSYAMSWVRQAPGKGLEWVGVISYGGSTYYADSVKGRFTISRDNSKNTLYLQMNSLRAEDTAVYYCARDGGGGYYGFDYWGQGTLVTVSS\n",
      "> 61\n",
      "QVQLVESGGGLVKPGGSLRLSCAASGFTFSSYAMSWVRQAPGKGLEWVGVISYGGSTYYADSVKGRFTISRDNSKNTLYLQMNSLRAEDTAVYYCARDGGGGYYGFDYWGQGTLVTVSS\n",
      "> 62\n",
      "STFAWWVIYMWYYIYHGLSQMLQGCYMQQHWWCRPWIMPYHEECYQALISMDLQWQTFWCCKFKCKNCWGNIQYCNCWFQWFYWCQDLWDAWMQKKQMMITEHPDCDTMWQMMMQMGYSDCYWQCY\n",
      "> 63\n",
      "STFAWVIYMLYYIYCGLSQMLQGCYCGHWWCRPWMPYHTECYQALISMDLQWQTFWCCKFCKCKNCWGNIQYCNCWFQWCFYWCQHLWDAWMQKKQMQNTEHPDCDTWWQMMMQMGYSDCYWQCY\n",
      "> 64\n",
      "STFAWVIYMWYYIYHGLSQMLQGCYMQGHWWCRPWIMPYHTYCYHALIFMDLQWQTFWCCKFCKCLNCEGNIQYCNCWFQWFYWCQHLWDWMQKKQMMNTEFPDCDTMWQMMMQMGYSDCYWQCY\n",
      "> 65\n",
      "STFAWVIYMLYYIYHGLSQMLQGCYMQGHWWCRPWIMPYHEYCYHALISMDLQWQTFWCCKFCKCLNCEGNIQYCNCWFQWFYWCQHLWDAWMQKKQMMITEHPDCDTMWQMMMQMGYSDCYWQCY\n",
      "> 66\n",
      "QVQHVESGHGLSQPGGSLRLSCAASGYTISSVGWSPVRQSPMKGVEWVGYSSDYCGGYIFCNPDFGSRVFISKDNPKMTAYLKLSSPKEADTYMYYCAKMLWYFPPCHYIYYRCMAIWGQGILVAFSS\n",
      "> 67\n",
      "STFAWVIYMWYYIYCGLSQMLQGCYMCGHWWCRPWMPYHYCYQALISMDLQWQTFWCCKFCKCKNCEGNIQYCNCWFQWFYWCQHLWDAWMQKKQMQNTEHPDCDTWWQMMMQMGYSDCYWQCY\n",
      "> 68\n",
      "QVQLVESGGGLVKPGGSLRLSCAASGFTFSSYAMSWVRQAPGKGLEWVGVISYGGSTYYADSVKGRFTISRDNSKNTLYLQMNSLRAEDTAVYYCARDGGGGYYGFDYWGQGTLVTVSS\n",
      "> 69\n",
      "QVQLVESGGGLVKPGGSLRLSCAASGFTFSSYAMSWVRQAPGKGLEWVGVISYGGSTYYADSVKGRFTISRDNSKNTLYLQMNSLRAEDTAVYYCARDGGGGYYGFDYWGQGTLVTVSS\n",
      "> 70\n",
      "STFAWVIYMWYYIYCGLFQMLQGCYMQGHWWCRPWMPYHTYCYQALISMDLQWQTFWCCKFCKCKNCWGNIQYCNCWFQWFYWCQHLWDAWMQKKQMMNTEHPDCDTWWQMMMQMGYSDCYWQCY\n",
      "> 71\n",
      "STFAWWVIYMLYYIYCGLSQMLQGCYMCGHWWCRPWMPYHTECYQALISMDLQWQTFWCCKFCKCKNCWGNIQYCNCWFQWCFYWCQHLWDAWMQKKQMMNTEHPDCDTWWQMMMQMGYSDCYWQCY\n",
      "> 72\n",
      "QVQLVESGGGLVKPGGSLRLSCAASGFTFSSYAMSWVRQAPGKGLEWVGVISYGGSTYYADSVKGRFTISRDNSKNTLYLQMNSLRAEDTAVYYCARDGGGGYYGFDYWGQGTLVTVSS\n",
      "> 73\n",
      "STFAWVIYMWYYIYHGLSQMLQGCYMCGHWWCRPWMPYHEECYQALISMDLQWQTFWCCKFCKCKNCEGNIQYCNCWFQWCFYWCQHLWDAWMQKKQMMNTEHPDCDTWWQMMMQMGYSDCYWQCY\n",
      "> 74\n",
      "QVQLVESGGGLVKPGESLSLSCAASGFTFSSYAMSWVRQAPGKGLEWVGVISYSGGSTYYADSVKGRFTISRDNSKNTLYLQMNSLRAEDTAVYYCARDGGGSYGFDYWGQGTLVTVSS\n",
      "> 75\n",
      "QVQLVESGGGLVKPGESLSLSCAASGFTFSSYAMSWVRQAPGKGLEWVGVISYSGGSTYYADSVKGRFTISRDNSKNTLYLQMNSLRAEDTAVYYCARDGGGSYGFDYWGQGTLVTVSS\n",
      "> 76\n",
      "STFAWVIYMLYYIYCTLSQMLQGCYCGHWWYRPWMPYHECYQALISMDLQWQTFWCCKYFCKCKNCEGNIQYCNPCWFQWCFYWCQHLWDGWMHKKQMQNTEHPDCDTWWQMMMQMGYSDCYWQCY\n",
      "> 77\n",
      "STFAWVIYMWYYIYHGLFQMLQGCYMQGHWWCRPWMPYHTYCYQALISMDLQWQTFWCCKFCKCLNCWGNIQYCNCWFQWFYWCQHLWDAWMQKKQMMNTEHPDCDTWWQMMMQMGYSDCYWQCY\n",
      "> 78\n",
      "STFAWVIYMLYYIYCTLSQMLQGCYCGHWWCRPWMPYHECYQALISMDLQWQTFWCCKYFCKCKNCEGNIQYCNCWFQWCFYWCQHLWDGWMHKKQMQNTEHPDCDTWWQMMMQMGYSDCYWQCY\n",
      "> 79\n",
      "STFAWVIYMWYYIYHGLSQMLQGCYMQQHWWCRPWMPYHTYCYQALISMDLQWQTFWCCKFCNCKNCEGNIQYCNCWFQWFYWCQDLWDWMQKKQMMNTEHPDCDTMWQMMMQMGYSDCYWQCY\n",
      "> 80\n",
      "STFAWVIYMWYYIYHGLSQMLQGCYMCGHWWCRPWMPYHECYQALISMDLQWQTFWCCKFCKCKNCEGNIQYCNPCWFQWFYWCQHLWDWMQKKQMQNTEHPDCDTWWQMMMQMGYSDCYWQCY\n",
      "> 81\n",
      "QVQLVESGGGLVKPGGSLRLSCAASGFTFSSYAMSWVRQAPGKGLEWVGVISYGGSTYYADSVKGRFTISRDNSKNTLYLQMNSLRAEDTAVYYCARDGGGGYYGFDYWGQGTLVTVSS\n",
      "> 82\n",
      "QVQLVESGGGLVKPGESLSLSCAASGFTFSSYAMSWVRQAPGKGLEWVGVISYSGGSTYYADSVKGRFTISRDNSKNTLYLQMNSLRAEDTAVYYCARDGGGSYGFDYWGQGTLVTVSS\n",
      "> 83\n",
      "QVQLVESGGGLVKPGGSLRLSCAASGFTFSSYAMSWVRQAPGKGLEWVGVISYGGSTYYADSVKGRFTISRDNSKNTLYLQMNSLRAEDTAVYYCARDGGGGYYGFDYWGQGTLVTVSS\n",
      "> 84\n",
      "STFAWVIYMLYYIYCGLSQMLQGCYMCGHWWCRPWMPYHEECYQALISMDLQWQTFWCCKFCKCKNCWGNIQYCNCWFQWCFYWCQHLWDAWMQKKQMMNTEHPDCDTWWQMMMQMGYSDCYWQCY\n",
      "> 85\n",
      "STFAWVIYMLYYIYHTLSQMLQGCYCGHWWCRPWMPYHECYQALISMDLQWQTFWCCKFCKCKNCEGNIQYCPCWFQWCFYWCQHLWDAWMQKKQMQNTEHPDCDTWWQMMMQMGYSDCYWQCY\n",
      "> 86\n",
      "STFAWVIYMWYYIYCGLFQMLQGCYMCGHWWCRPWMPYHYCYQALISMDLQWQTFWCCKFCKCKNCWGNIQYCNNCWFQWFYWCQDLWDAWMQKKQMMNTEFPDCDTWWQMMMQMGYSDCYWQCY\n",
      "> 87\n",
      "QVQLVESGGGLVKPGESLSLSCAASGFTFSSYAMSWVRQAPGKGLEWVGVISYSGGSTYYADSVKGRFTISRDNSKNTLYLQMNSLRAEDTAVYYCARDGGGSYGFDYWGQGTLVTVSS\n",
      "> 88\n",
      "QVQLVESGGGLVKPGGSLRLSCAASGFTFSSYAMSWVRQAPGKGLEWVGVISYSGGSTYYADSVKGRVTISRDNSKNTLYLQMNSLRAEDTAVYYCARDGGGSYGFDYWGQGTLVTVSS\n",
      "> 89\n",
      "QVQLVESGGGLVKPGGSLRLSCAASGFTFSSYAMSWVRQAPGKGLEWVGVISYGGSTYYADSVKGRFTISRDNSKNTLYLQMNSLRAEDTAVYYCARDGGGGYYGFDYWGQGTLVTVSS\n",
      "> 90\n",
      "QVQLVESGGGLVKPGGSLRLSCAASGFTFSSYAMSWVRQAPGKGLEWVGVISYGGSTYYADSVKGRFTISRDNSKNTLYLQMNSLRAEDTAVYYCARDGGGGYYGFDYWGQGTLVTVSS\n",
      "> 91\n",
      "STFAWWVIYMLYYIYHTLSQMLQGCYMCGHWWCRPWMPYHEECYQALISMDLQWQTFWCCKYFCKCKNCEGNIQYCPCWFQWCFYWCQHLWDAWMHKKQMQITEHPDCDTWWQMMMQMGYSDCYWQCY\n",
      "> 92\n",
      "STFAWWVIYMWYYIYHGLSQMLQGCYCGHWWYRPWMPYHEECYQALISMDLQWQTFWCCKFCKCKNCEGNIQYCNCWFQWCFYWCQHLWDAWMQKKQMMITEHPDCDTWWQMMMQMGYSDCYWQCY\n",
      "> 93\n",
      "STFAWVIYMLYYIYHGLFQMLQGCYQGHWWCRPWMPYHTYCYQALISMDLQWQTFWCCKFKCKNCEGNIQHWNCWFQWFYWCQHLWDWMQKKQMMITEHPDCDTMWQMMMQMGYSDCYWQCY\n",
      "> 94\n",
      "STFAWVIYMWYYIYCGLSQMLQGCYMQGHWWCRPWMPYHEECYHALISMDLQWQTFWCCKFCNCKNCWGNIQWWNCWFQWCFYWCQHLWDAWMQKKQMMNTEFPDCDTWWQMMMQMGYSDCYWQCY\n",
      "> 95\n",
      "STFAWWVIYMLYYIYCGLFQMLQGCYCGHWWCRPWMPYHEECYQYLISMDLQWQTFWCCKFCKCKNCWGNIQYCNCWFQWCFYWQQHLWDAWMMQKKQMMNTEHPDCDTWWQMMMQMGYSDCYWQCY\n",
      "> 96\n",
      "STFAWWVIYMLYYIYHTLSQMLQGCYCGHWWCRPWMPYHECYQALISMDLQWQTFWCCKYFCKCKNCEGNIQYCNCWFQWCFYWCQHLWDWMHKKQMQNTEHPDCDTWWQMMMQMGYSDCYWQCY\n",
      "> 97\n",
      "STFAWWVIYMWYYIYCGLSQMLQGCYMCGHWWCRPWMPYHTYCYQYLISMDLQWQTFWCCKFCKCKNCEGNIQYCGNCWFQWFYWCQDLWDGWMQKKQMMNTEFPDCDTMWQMMMQMGYSDCYWQCY\n",
      "> 98\n",
      "QVQLVESGGGLVKPGGSLRLSCAASGFTFSSYAMSWVRQAPGKGLEWVGVISYGGSTYYADSVKGRFTISRDNSKNTLYLQMNSLRAEDTAVYYCARDGGGGYYGFDYWGQGTLVTVSS\n",
      "> 99\n",
      "STFAWWVIYMLYYIYCGLFQMLQGCYMCGHWWCRPWMPYHTECYQALISMDLQWQTFWCCKFCKCKNCEGNIQYCNCWFQWCFYWCQHLWDAWMQKKQMMNTEHPDCDTWWQMMMQMGYSDCYWQCY\n"
     ]
    }
   ],
   "source": [
    "for i, li in enumerate(l):\n",
    "    print('>', i)\n",
    "    print(li.replace('-', ''))"
   ]
  },
  {
   "cell_type": "code",
   "execution_count": null,
   "metadata": {},
   "outputs": [],
   "source": []
  },
  {
   "cell_type": "code",
   "execution_count": null,
   "metadata": {},
   "outputs": [],
   "source": []
  },
  {
   "cell_type": "code",
   "execution_count": null,
   "metadata": {},
   "outputs": [],
   "source": []
  }
 ],
 "metadata": {
  "kernelspec": {
   "display_name": "Python 3",
   "language": "python",
   "name": "python3"
  },
  "language_info": {
   "codemirror_mode": {
    "name": "ipython",
    "version": 3
   },
   "file_extension": ".py",
   "mimetype": "text/x-python",
   "name": "python",
   "nbconvert_exporter": "python",
   "pygments_lexer": "ipython3",
   "version": "3.6.3"
  }
 },
 "nbformat": 4,
 "nbformat_minor": 2
}
