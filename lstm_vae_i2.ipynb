{
 "cells": [
  {
   "cell_type": "code",
   "execution_count": 1,
   "metadata": {},
   "outputs": [],
   "source": [
    "# Generic imports\n",
    "from __future__ import print_function\n",
    "%matplotlib inline\n",
    "import matplotlib.pyplot as plt\n",
    "import numpy as np\n",
    "#import pandas as pd\n",
    "import math, random, re\n",
    "import time\n",
    "import pickle\n",
    "from Bio import SeqIO"
   ]
  },
  {
   "cell_type": "code",
   "execution_count": null,
   "metadata": {},
   "outputs": [
    {
     "name": "stderr",
     "output_type": "stream",
     "text": [
      "Using TensorFlow backend.\n"
     ]
    }
   ],
   "source": [
    "#Machine learning/Stats imports \n",
    "from scipy.stats import norm\n",
    "from scipy.stats import spearmanr,pearsonr\n",
    "from sklearn.preprocessing import normalize\n",
    "from sklearn.model_selection import train_test_split\n",
    "import tensorflow as tf\n",
    "import keras\n",
    "from keras.layers import Input, Dense, Bidirectional, RepeatVector, Reshape, LSTM\n",
    "from keras.models import Model\n",
    "from keras import regularizers\n",
    "from keras.layers import Input, Dense, Lambda, Dropout,Activation, TimeDistributed\n",
    "from keras import backend as K\n",
    "from keras import objectives\n",
    "from keras.callbacks import EarlyStopping\n",
    "from keras.layers.normalization import BatchNormalization\n",
    "from keras import regularizers\n",
    "\n",
    "from IPython.display import SVG\n",
    "from keras.utils.vis_utils import model_to_dot, plot_model"
   ]
  },
  {
   "cell_type": "code",
   "execution_count": null,
   "metadata": {},
   "outputs": [],
   "source": [
    "# Amino acid alphabet:\n",
    "AA_ORDER = 'ACDEFGHIKLMNPQRSTVWY-'\n",
    "AA_LIST = list(AA_ORDER)\n",
    "AA_DICT = {c:i for i, c in enumerate(AA_LIST)}\n",
    "AA_DICT_REV = {i:c for i, c in enumerate(AA_LIST)}\n",
    "AA_SET = set(AA_LIST)"
   ]
  },
  {
   "cell_type": "code",
   "execution_count": null,
   "metadata": {},
   "outputs": [],
   "source": [
    "def filter_seq(seq):\n",
    "    '''Filter away ambiguous character containing sequences.'''\n",
    "    if set(list(seq)) <= AA_SET:\n",
    "        return(seq)\n",
    "    else:\n",
    "        return(None)"
   ]
  },
  {
   "cell_type": "code",
   "execution_count": null,
   "metadata": {},
   "outputs": [],
   "source": [
    "def seq2onehot(seq_list):\n",
    "    '''\n",
    "    Translate a list of amino acid sequences into a 3D tensor with onehot encodings.\n",
    "    NB. all sequences must be of equal length.\n",
    "    '''\n",
    "    seqlen = len(seq_list[0])\n",
    "    assert(not [True for s in seq_list if len(s) != seqlen])\n",
    "    onehot_tensor = np.zeros((len(seq_list), seqlen, len(AA_SET)))\n",
    "    for i, seq in enumerate(seq_list):\n",
    "        for j, a in enumerate(seq):\n",
    "            onehot_tensor[i][j][AA_DICT[a]] = 1\n",
    "    return(onehot_tensor)"
   ]
  },
  {
   "cell_type": "code",
   "execution_count": null,
   "metadata": {},
   "outputs": [],
   "source": [
    "def onehot2seq(onehot_tensor):\n",
    "    '''\n",
    "    Translate a 3D tensor with onehot encodings to a list of amino acid sequences.\n",
    "    '''\n",
    "    seq_list = list()\n",
    "    for i in range(onehot_tensor.shape[0]):\n",
    "        seq = list()\n",
    "        for j in range(onehot_tensor.shape[1]):\n",
    "            seq.append(AA_DICT_REV[onehot_tensor[i][j].argmax()])\n",
    "        seq_list.append(''.join(seq))\n",
    "    return(seq_list)"
   ]
  },
  {
   "cell_type": "code",
   "execution_count": null,
   "metadata": {},
   "outputs": [],
   "source": []
  },
  {
   "cell_type": "code",
   "execution_count": null,
   "metadata": {},
   "outputs": [],
   "source": [
    "# Read in some sequences:\n",
    "MAX_SEQS = 1000\n",
    "fnam = '../spurf_heavy_chain_AHo.fasta'\n",
    "seq_list = list()\n",
    "for i, record in enumerate(SeqIO.parse(fnam, 'fasta')):\n",
    "    if i >= MAX_SEQS:\n",
    "        break\n",
    "    seq_list.append(str(record.seq))\n",
    "print('Input data has {} sequences.'.format(len(seq_list)))"
   ]
  },
  {
   "cell_type": "code",
   "execution_count": null,
   "metadata": {},
   "outputs": [],
   "source": [
    "# Transform to onehot:\n",
    "onehot_tensor = seq2onehot(seq_list)\n",
    "print('Onehot encoded tensor has this shape: {}'.format(onehot_tensor.shape))"
   ]
  },
  {
   "cell_type": "code",
   "execution_count": null,
   "metadata": {},
   "outputs": [],
   "source": []
  },
  {
   "cell_type": "code",
   "execution_count": null,
   "metadata": {},
   "outputs": [],
   "source": [
    "# Various network definitions:\n",
    "batch_size = 100\n",
    "input_shape = onehot_tensor.shape[1:]\n",
    "input_total_dim = np.array(input_shape).prod()\n",
    "\n",
    "latent_dim = 10\n",
    "lstm_nodes = 149\n",
    "#lstm_nodes = 30\n",
    "\n",
    "epsilon_std = 1.0\n",
    "def sampling(args):\n",
    "    '''This function draws a sample from the multinomial defined by the latent variables.'''\n",
    "    z_mean, z_log_var = args\n",
    "    epsilon = K.random_normal(shape=(batch_size, latent_dim), mean=0.0, stddev=epsilon_std)\n",
    "    return(z_mean + K.exp(z_log_var / 2) * epsilon)\n",
    "\n",
    "def vae_loss(io_encoder, io_decoder):\n",
    "    '''The loss function is the sum of the cross-entropy and KL divergence.'''\n",
    "    # Notice that \"objectives.categorical_crossentropy(io_encoder, io_decoder)\" is a vector so it is averaged:\n",
    "    xent_loss = input_total_dim * K.mean(objectives.categorical_crossentropy(io_encoder, io_decoder))\n",
    "    kl_loss = - 0.5 * K.sum(1 + z_log_var - K.square(z_mean) - K.exp(z_log_var), axis=-1)\n",
    "    return(xent_loss + kl_loss)"
   ]
  },
  {
   "cell_type": "code",
   "execution_count": null,
   "metadata": {},
   "outputs": [],
   "source": [
    "# Encoding layers:\n",
    "io_encoder = Input(shape=input_shape)\n",
    "lstm_encoder1 = Bidirectional(LSTM(lstm_nodes, return_sequences=True, recurrent_dropout=0.2), merge_mode='concat')(io_encoder)\n",
    "lstm_encoder2 = Bidirectional(LSTM(lstm_nodes, return_sequences=False, recurrent_dropout=0.2), merge_mode='concat')(lstm_encoder1)\n",
    "\n",
    "\n",
    "# Latent layers:\n",
    "z_mean = Dense(latent_dim)(lstm_encoder2)\n",
    "z_log_var = Dense(latent_dim)(lstm_encoder2)\n",
    "z = Lambda(sampling, output_shape=(latent_dim, ))([z_mean, z_log_var])\n",
    "\n",
    "encoder = Model(io_encoder, z_mean)\n",
    "encoder.summary()\n",
    "plot_model(encoder, to_file='encoder.svg', show_shapes=True)\n",
    "SVG(model_to_dot(encoder, show_shapes=True).create(prog='dot', format='svg'))"
   ]
  },
  {
   "cell_type": "code",
   "execution_count": null,
   "metadata": {},
   "outputs": [],
   "source": []
  },
  {
   "cell_type": "code",
   "execution_count": null,
   "metadata": {},
   "outputs": [],
   "source": [
    "# Decoding layers:\n",
    "rep_decoder = RepeatVector(input_shape[0])\n",
    "lstm_decoder1 = Bidirectional(LSTM(lstm_nodes, return_sequences=True, recurrent_dropout=0.2), merge_mode='concat')\n",
    "lstm_decoder2 = Bidirectional(LSTM(lstm_nodes, return_sequences=False, recurrent_dropout=0.2), merge_mode='concat')\n",
    "decoder_out = Dense(input_total_dim, activation='sigmoid')\n",
    "reshape2input = Reshape(input_shape)\n",
    "io_decoder = reshape2input(decoder_out(lstm_decoder2(lstm_decoder1(rep_decoder(z)))))\n",
    "\n",
    "\n",
    "io_z = Input(shape=(latent_dim,))\n",
    "io_decoder_means = reshape2input(decoder_out(lstm_decoder2(lstm_decoder1(rep_decoder(io_z)))))\n",
    "decoder = Model(io_z, io_decoder_means)\n",
    "decoder.summary()\n",
    "plot_model(decoder, to_file='decoder.svg', show_shapes=True)\n",
    "SVG(model_to_dot(decoder, show_shapes=True).create(prog='dot', format='svg'))"
   ]
  },
  {
   "cell_type": "code",
   "execution_count": null,
   "metadata": {},
   "outputs": [],
   "source": []
  },
  {
   "cell_type": "code",
   "execution_count": null,
   "metadata": {},
   "outputs": [],
   "source": [
    "vae = Model(io_encoder, io_decoder)\n",
    "vae.compile(optimizer=\"adam\", loss=vae_loss)\n",
    "vae.summary()\n",
    "plot_model(vae, to_file='vae.svg', show_shapes=True)\n",
    "SVG(model_to_dot(vae, show_shapes=True).create(prog='dot', format='svg'))"
   ]
  },
  {
   "cell_type": "code",
   "execution_count": null,
   "metadata": {},
   "outputs": [],
   "source": []
  },
  {
   "cell_type": "code",
   "execution_count": 111,
   "metadata": {},
   "outputs": [],
   "source": [
    "# Split dataset into train/test:\n",
    "x_train, x_test = train_test_split(onehot_tensor, test_size=0.1, shuffle=True)\n",
    "sl = len(x_train) // (batch_size*10)\n",
    "sl = sl // 10\n",
    "x_train = x_train[:(sl*batch_size*10)]"
   ]
  },
  {
   "cell_type": "code",
   "execution_count": null,
   "metadata": {},
   "outputs": [],
   "source": []
  },
  {
   "cell_type": "code",
   "execution_count": null,
   "metadata": {},
   "outputs": [
    {
     "name": "stdout",
     "output_type": "stream",
     "text": [
      "Train on 129600 samples, validate on 14400 samples\n",
      "Epoch 1/2\n",
      "129600/129600 [==============================] - 1338s - loss: 2997.4940 - val_loss: 2791.0774\n",
      "Epoch 2/2\n",
      " 64600/129600 [=============>................] - ETA: 652s - loss: 2790.6839"
     ]
    }
   ],
   "source": [
    "nb_epoch = 2\n",
    "early_stopping = EarlyStopping(monitor='val_loss', patience=5)\n",
    "vae_log = vae.fit(x_train,\n",
    "                  x_train,  # VAE is unsupervised so y=X\n",
    "                  shuffle=True,\n",
    "                  epochs=nb_epoch,\n",
    "                  batch_size=batch_size,\n",
    "                  validation_split=0.1,\n",
    "                  callbacks=[early_stopping])"
   ]
  },
  {
   "cell_type": "code",
   "execution_count": null,
   "metadata": {},
   "outputs": [],
   "source": [
    "# loss before fail: 2636"
   ]
  },
  {
   "cell_type": "code",
   "execution_count": null,
   "metadata": {},
   "outputs": [],
   "source": []
  },
  {
   "cell_type": "code",
   "execution_count": null,
   "metadata": {},
   "outputs": [],
   "source": [
    "vae.save('lstm_vae.h5')\n",
    "#vae.load_weights('lstm_vae.h5')"
   ]
  },
  {
   "cell_type": "code",
   "execution_count": null,
   "metadata": {},
   "outputs": [],
   "source": []
  },
  {
   "cell_type": "code",
   "execution_count": 44,
   "metadata": {},
   "outputs": [
    {
     "name": "stdout",
     "output_type": "stream",
     "text": [
      "(1000, 10)\n"
     ]
    }
   ],
   "source": [
    "x_test_encoded = encoder.predict(x_test)\n",
    "print(x_test_encoded.shape)"
   ]
  },
  {
   "cell_type": "code",
   "execution_count": 45,
   "metadata": {},
   "outputs": [
    {
     "name": "stdout",
     "output_type": "stream",
     "text": [
      "(1000, 149, 21)\n"
     ]
    }
   ],
   "source": [
    "x_test_decoded = decoder.predict(x_test_encoded)\n",
    "print(x_test_decoded.shape)"
   ]
  },
  {
   "cell_type": "code",
   "execution_count": null,
   "metadata": {},
   "outputs": [],
   "source": []
  },
  {
   "cell_type": "code",
   "execution_count": 46,
   "metadata": {},
   "outputs": [
    {
     "name": "stdout",
     "output_type": "stream",
     "text": [
      "This \"148.9999896287918\" should be close to 149.\n"
     ]
    }
   ],
   "source": [
    "# Normalize decoded output:\n",
    "for i in range(len(x_test_decoded)):\n",
    "    x_test_decoded[i] = normalize(x_test_decoded[i], axis=1, norm='l1')\n",
    "print('This \"{}\" should be close to {}.'.format(sum(sum(x_test_decoded[0])), x_test_decoded.shape[1]))"
   ]
  },
  {
   "cell_type": "code",
   "execution_count": 47,
   "metadata": {},
   "outputs": [],
   "source": [
    "x_test_decoded_onehot = np.zeros(x_test_decoded.shape)\n",
    "for i in range(x_test_decoded.shape[0]):\n",
    "    for j in range(x_test_decoded.shape[1]):\n",
    "        mi = x_test_decoded[i][j].argmax()\n",
    "        x_test_decoded_onehot[i][j][mi] = 1"
   ]
  },
  {
   "cell_type": "code",
   "execution_count": 48,
   "metadata": {},
   "outputs": [
    {
     "data": {
      "text/plain": [
       "array([[ 0.,  0.,  0.,  0.,  0.,  0.,  0.,  0.,  0.,  0.,  0.,  0.,  0.,\n",
       "         1.,  0.,  0.,  0.,  0.,  0.,  0.,  0.],\n",
       "       [ 0.,  0.,  0.,  0.,  0.,  0.,  0.,  0.,  0.,  0.,  0.,  0.,  0.,\n",
       "         0.,  0.,  0.,  0.,  1.,  0.,  0.,  0.],\n",
       "       [ 0.,  0.,  0.,  0.,  0.,  0.,  0.,  0.,  0.,  0.,  0.,  0.,  0.,\n",
       "         1.,  0.,  0.,  0.,  0.,  0.,  0.,  0.],\n",
       "       [ 0.,  0.,  0.,  0.,  0.,  0.,  0.,  0.,  0.,  1.,  0.,  0.,  0.,\n",
       "         0.,  0.,  0.,  0.,  0.,  0.,  0.,  0.],\n",
       "       [ 0.,  0.,  0.,  0.,  0.,  0.,  0.,  0.,  0.,  0.,  0.,  0.,  0.,\n",
       "         0.,  0.,  0.,  0.,  1.,  0.,  0.,  0.],\n",
       "       [ 0.,  0.,  0.,  1.,  0.,  0.,  0.,  0.,  0.,  0.,  0.,  0.,  0.,\n",
       "         0.,  0.,  0.,  0.,  0.,  0.,  0.,  0.],\n",
       "       [ 0.,  0.,  0.,  0.,  0.,  0.,  0.,  0.,  0.,  0.,  0.,  0.,  0.,\n",
       "         0.,  0.,  1.,  0.,  0.,  0.,  0.,  0.],\n",
       "       [ 0.,  0.,  0.,  0.,  0.,  0.,  0.,  0.,  0.,  0.,  0.,  0.,  0.,\n",
       "         0.,  0.,  0.,  0.,  0.,  0.,  0.,  1.],\n",
       "       [ 0.,  0.,  0.,  0.,  0.,  1.,  0.,  0.,  0.,  0.,  0.,  0.,  0.,\n",
       "         0.,  0.,  0.,  0.,  0.,  0.,  0.,  0.],\n",
       "       [ 0.,  0.,  0.,  0.,  0.,  1.,  0.,  0.,  0.,  0.,  0.,  0.,  0.,\n",
       "         0.,  0.,  0.,  0.,  0.,  0.,  0.,  0.]])"
      ]
     },
     "execution_count": 48,
     "metadata": {},
     "output_type": "execute_result"
    }
   ],
   "source": [
    "x_test_decoded_onehot[1][0:10]"
   ]
  },
  {
   "cell_type": "code",
   "execution_count": 49,
   "metadata": {},
   "outputs": [],
   "source": [
    "seqs_test = onehot2seq(x_test)"
   ]
  },
  {
   "cell_type": "code",
   "execution_count": 50,
   "metadata": {},
   "outputs": [],
   "source": [
    "seqs_test_decoded = onehot2seq(x_test_decoded_onehot)"
   ]
  },
  {
   "cell_type": "code",
   "execution_count": 51,
   "metadata": {},
   "outputs": [
    {
     "name": "stdout",
     "output_type": "stream",
     "text": [
      "QVQLVQS-GAEVKKPGASVKVSCKASG-YTFTN-----YGISWVRQAPGQGLEWMGWISAY---NGNTNYAQKLQGRVTMTTDTSTSTAYMELRSLRSDDTAMYYCASVCSTT-------------------SCQLDYWGQGTLVTVSS\n",
      "QVQLVES-GGGLVKPGGSLRLSCAASG-FTFSS-----YAMSWVRQAPGKGLEWVGVISY----GGSTYYADSVKGRFTISRDNSKNTLYLQMNSLRAEDTAVYYCARDGGGG-------------------YYGFDYWGQGTLVTVSS\n",
      "EVQLLES-GGGLVQPGGSLRLSCAASG-FTFSS-----YAMSWVRQAPGKGLEWVSAISGS---GGSTYYADSVKGRFTISRDNSKNTLYLQMNSLRAEDTAVYYCARKTVVTP------------------IPYFDYWGQGTLVTVSS\n",
      "QVQLVES-GGGLVKPGGSLRLSCAASG-FTFSS-----YAMSWVRQAPGKGLEWVGVISY----GGSTYYADSVKGRFTISRDNSKNTLYLQMNSLRAEDTAVYYCARDGGGG-------------------YYGFDYWGQGTLVTVSS\n",
      "QVQLVQS-GAEVKKAGSSVKVSCKASG-GTLSS-----YVISWVRQAPGQGLEWMGRIIPV---LNRTNYAQKFQGRVTVTADKSTSTAYMELSSLRFDDTAVYYCARDNSGW--------------------SLHDYWGQGTLVTVSS\n",
      "QVQLVES-GGGLVKPGGSLRLSCAASG-FTFSS-----YAMSWVRQAPGKGLEWVGVISY----GGSTYYADSVKGRFTISRDNSKNTLYLQMNSLRAEDTAVYYCARDGGGG-------------------YYGFDYWGQGTLVTVSS\n",
      "EVQLVES-GGGLVKPGGSLRLSCAASG-FTFSS-----YSMNWVRQAPGKGLEWVSSISSS---SSYIYYADSVKGRFTISRDNAKNSLYLQMNSLRAEDTAVYYCARYPPGGS------------------YWVFDYWGQGTLVTVSS\n",
      "QVQLVES-GGGLVKPGGSLRLSCAASG-FTFSS-----YAMSWVRQAPGKGLEWVGVISY----GGSTYYADSVKGRFTISRDNSKNTLYLQMNSLRAEDTAVYYCARDGGGG-------------------YYGFDYWGQGTLVTVSS\n",
      "QVQLQES-GPGLVKPSETLSLTCTVSG-GSISS-----YYWSWIRQPAGKGLEWIGRIYT----SGSTNYNPSLKSRVTMSVDTSKNQFSLKLSSVTAADTAVYYCAGDLDYYDS----------------SGPPLDYWGQGTLVTVSS\n",
      "QVQLVES-GGGLVKPGGSLRLSCAASG-FTFSS-----YAMSWVRQAPGKGLEWVGVISY----GGSTYYADSVKGRFTISRDNSKNTLYLQMNSLRAEDTAVYYCARDGGGG-------------------YYGFDYWGQGTLVTVSS\n",
      "QVQLQES-GPGLVKPSQTLSLTCTVSG-GSISSG---DYYWSWIRQPPGKGLEWIGYIYY----SGSTYYNPSLKSRVTISVDTSKNQFSLKLSSVTAADTAVYYCARGELMTT-----------------KENWFDPWGQGTLVTVSS\n",
      "QVQLVES-GGGLVKPGGSLRLSCAASG-FTFSS-----YAMSWVRQAPGKGLEWVGVISY----GGSTYYADSVKGRFTISRDNSKNTLYLQMNSLRAEDTAVYYCARDGGGG-------------------YYGFDYWGQGTLVTVSS\n",
      "QIQLQQS-GPGLVKPSQTLSITCAISG-DSVSNN---RAAWNWIRQSPSRGLEWLGRTYYR--SRWSNDYAVSVKSRITINPDTSKNQFSLQLNSVTPEDTAVYYCAREPDD---------------------SGMDVWGQGTTVTVSS\n",
      "QVQLVES-GGGLVKPGGSLRLSCAASG-FTFSS-----YAMSWVRQAPGKGLEWVGVISY----GGSTYYADSVKGRFTISRDNSKNTLYLQMNSLRAEDTAVYYCARDGGGG-------------------YYGFDYWGQGTLVTVSS\n",
      "QLQLQES-GSGLVKPSQTLSLTCAVSG-GSISSG---GYSWSWIRQPPGKGLEWIGYIYH----SGSTYYNPSLKSRVTISVDRSKNQFSLKLSSVTAADTAVYYCARGGGVLLWFGE----------TKGEHWWFDPWGQGTLVTVSS\n",
      "QVQLVES-GGGLVKPGGSLRLSCAASG-FTFSS-----YAMSWVRQAPGKGLEWVGVISY----GGSTYYADSVKGRFTISRDNSKNTLYLQMNSLRAEDTAVYYCARDGGGG-------------------YYGFDYWGQGTLVTVSS\n",
      "EVQLLES-GGGLVQPGGSLRLSCAASG-FTFSS-----YAMSWVRQAPGKGLEWVSAISGS---GGSTYYADSVKGRFTISRDNSKNTLYLQMNSLRAEDTAVYYCAKPPIS----------------------GFDYWGQGTLVTVSS\n",
      "QVQLVES-GGGLVKPGGSLRLSCAASG-FTFSS-----YAMSWVRQAPGKGLEWVGVISY----GGSTYYADSVKGRFTISRDNSKNTLYLQMNSLRAEDTAVYYCARDGGGG-------------------YYGFDYWGQGTLVTVSS\n",
      "AVQLLQS-GGGLVQPGESLRLSCGVSG-FTFPK-----YAMAWVRQTPGKGLEWVSIISYS---GNTTYYSDSVKGRFTISRDNSNNTLHLQMNSLGVEDTAVYYCGKTMFNT-------------------LVVVEDWGQGTPVTVSS\n",
      "QVQLVES-GGGLVKPGGSLRLSCAASG-FTFSS-----YAMSWVRQAPGKGLEWVGVISY----GGSTYYADSVKGRFTISRDNSKNTLYLQMNSLRAEDTAVYYCARDGGGG-------------------YYGFDYWGQGTLVTVSS\n"
     ]
    }
   ],
   "source": [
    "for i in range(10):\n",
    "    print(seqs_test[i])\n",
    "    print(seqs_test_decoded[i])"
   ]
  },
  {
   "cell_type": "code",
   "execution_count": null,
   "metadata": {},
   "outputs": [],
   "source": []
  },
  {
   "cell_type": "code",
   "execution_count": 52,
   "metadata": {},
   "outputs": [
    {
     "data": {
      "text/plain": [
       "array([[-1.69093931, -0.5660376 ,  2.72131729, ..., -7.01782131,\n",
       "        -2.86374974,  3.75052333],\n",
       "       [-1.69010699, -0.56717044,  2.72074556, ..., -7.01766157,\n",
       "        -2.8636024 ,  3.7507093 ],\n",
       "       [-1.69093883, -0.56603771,  2.72131753, ..., -7.01782084,\n",
       "        -2.8637495 ,  3.75052333],\n",
       "       ..., \n",
       "       [-1.69010699, -0.56717044,  2.72074556, ..., -7.01766157,\n",
       "        -2.8636024 ,  3.7507093 ],\n",
       "       [-1.69011486, -0.56716675,  2.72073889, ..., -7.01766109,\n",
       "        -2.86360621,  3.75072026],\n",
       "       [-1.690871  , -0.5660916 ,  2.72136807, ..., -7.01786423,\n",
       "        -2.86370587,  3.75039577]], dtype=float32)"
      ]
     },
     "execution_count": 52,
     "metadata": {},
     "output_type": "execute_result"
    }
   ],
   "source": [
    "x_test_encoded"
   ]
  },
  {
   "cell_type": "code",
   "execution_count": null,
   "metadata": {},
   "outputs": [],
   "source": []
  },
  {
   "cell_type": "code",
   "execution_count": null,
   "metadata": {},
   "outputs": [],
   "source": []
  },
  {
   "cell_type": "code",
   "execution_count": 53,
   "metadata": {},
   "outputs": [],
   "source": [
    "kkg = np.random.normal(0, 1, size=(100,10))"
   ]
  },
  {
   "cell_type": "code",
   "execution_count": 54,
   "metadata": {},
   "outputs": [],
   "source": [
    "kkgd = decoder.predict(kkg)"
   ]
  },
  {
   "cell_type": "code",
   "execution_count": 55,
   "metadata": {},
   "outputs": [
    {
     "name": "stdout",
     "output_type": "stream",
     "text": [
      "This \"148.9999885559082\" should be close to 149.\n"
     ]
    }
   ],
   "source": [
    "# Normalize decoded output:\n",
    "for i in range(len(kkgd)):\n",
    "    kkgd[i] = normalize(kkgd[i], axis=1, norm='l1')\n",
    "print('This \"{}\" should be close to {}.'.format(sum(sum(kkgd[0])), kkgd.shape[1]))"
   ]
  },
  {
   "cell_type": "code",
   "execution_count": 56,
   "metadata": {},
   "outputs": [],
   "source": [
    "kkgd_onehot = np.zeros(kkgd.shape)\n",
    "for i in range(kkgd.shape[0]):\n",
    "    for j in range(kkgd.shape[1]):\n",
    "        mi = kkgd[i][j].argmax()\n",
    "        kkgd_onehot[i][j][mi] = 1"
   ]
  },
  {
   "cell_type": "code",
   "execution_count": 57,
   "metadata": {},
   "outputs": [
    {
     "data": {
      "text/plain": [
       "array([ 0.,  0.,  0.,  0.,  0.,  0.,  0.,  0.,  0.,  0.,  0.,  0.,  0.,\n",
       "        0.,  0.,  1.,  0.,  0.,  0.,  0.,  0.])"
      ]
     },
     "execution_count": 57,
     "metadata": {},
     "output_type": "execute_result"
    }
   ],
   "source": [
    "kkgd_onehot[0][0]"
   ]
  },
  {
   "cell_type": "code",
   "execution_count": 58,
   "metadata": {},
   "outputs": [],
   "source": [
    "l = onehot2seq(kkgd_onehot)"
   ]
  },
  {
   "cell_type": "code",
   "execution_count": 59,
   "metadata": {},
   "outputs": [
    {
     "name": "stdout",
     "output_type": "stream",
     "text": [
      "> 0\n",
      "STFAWVIYMWYYIYHTLSQMLQGCYCGHWWCRPWMPYHYCYQALISMDLQWQTFWCCKFCKCKNCEGNIQYCPCWFQWFYWCQHLWDWMQKKQMQNTEHPDCDTWWQMMMQMGYSDCYWQCY\n",
      "> 1\n",
      "STFAWWVIYMLYYIYCGLSQMLQGCYMCGHWWCRPWMPYHTECYQALISMDLQWQTFWCCKFCKCKNCWGNIQYCNCWFQWCFYWCQHLWDAWMQKKQMMNTEHPDCDTWWQMMMQMGYSDCYWQCY\n",
      "> 2\n",
      "STFAWVIYMWYYIYHGLFQMLQGCYMCGHWWCRPWMPYHTYCYQALISMDLQWQTFWCCKFCKCKNCWGNIQYCNCWFQWFYWCQHLWDAWMQKKQMMITEHPDCDTWWQMMMQMGYSDCYWQCY\n",
      "> 3\n",
      "STFAWVIYMWYYIYHGLSQMLQGCYMQGHWWCRPWMPYHYCYQALISMDLQWQTFWCCKFCKCKNCWGNIQYCNCWFQWFYWCQHLWDWMQKKQMMITEHPDCDTWWQMMMQMGYSDCYWQCY\n",
      "> 4\n",
      "STFAWVIYMWYYIYCGLFQMLQGCYMCGHWWCRPWMPYHYCYQALISMDLQWQTFWCCKFCKCKNCWGNIQYCNNCWFQWFYWCQDLWDWMQKKQMMITEHPDCDTWWQMMMQMGYSDCYWQCY\n",
      "> 5\n",
      "STFAWVIYMWYYIYCGLFQMLQGCYMCGHWWCRPWMPYHYCYQALISMDLQWQTFWCCKFCKCKNCEGNIQYCNCWFQWCFYWCQHLWDAWMQKKQMMNTEHPDCDTWWQMMMQMGYSDCYWQCY\n",
      "> 6\n",
      "STFAWVIYMWYYIYHGLFQMLQGCYMCGHWWCRPWMPYHYCYQALISMDLQWQTFWCCKFCKCKNCWGNIQYCNNCWFQWFYWCQHLWDWMQKKQMMITEHPDCDTWWQMMMQMGYSDCYWQCY\n",
      "> 7\n",
      "STFAWVIYMLYYIYCGLFQMLQGCYMCGHWWCRPWMPYHYCYQALISMDLQWQTFWCCKFCKCKNCEGNIQYCNNCWFQWCFYWCQHLWDAWMQKKQMQNTEHPDCDTWWQMMMQMGYSDCYWQCY\n",
      "> 8\n",
      "STFAWWVIYMLYYIYHTLSQMLQGCYCGHWWCRPWMPYHYCYQALISMDLQWQTFWCCKFCKCKNCEGNIQYCNCWFQWCFYWCQHLWDAWMQKKQMMITEHPDCDTWWQMMMQMGYSDCYWQCY\n",
      "> 9\n",
      "STFAWWVIYMLYYIYCTLSQMLQGCYCGHWWCRPWMPYHECYQALISMDLQWQTFWCCKYFCKCKNCEGNIQYCNCWFQWCFYWCQHLWDGWMHKKQMMNTEHPDCDTWWQMMMQMGYSDCYWQCY\n",
      "> 10\n",
      "STFAWVIYMLYYIYHGLSQMLQGCYQGHWWCRPWMPYHTYCYQYLISMDLQWQTFWCCKYFCKCKNCWGNIQYCNNCWFQWFYWCQHLWDWMQKKQMQITEHPDCDTMWQMMMQMGYSDCYWQCY\n",
      "> 11\n",
      "QVQLVESGGGLVKPGGSLRLSCAASGFTFSSYAMSWVRQAPGKGLEWVGVISYGGSTYYADSVKGRFTISRDNSKNTLYLQMNSLRAEDTAVYYCARDGGGGYYGFDYWGQGTLVTVSS\n",
      "> 12\n",
      "STFAWVIYMLYYIYHGLFQMLQGCYMQGHWWCRPWIMPYHEYCYQALISMDLQWQTFWCCKFCKCKNCWGNIQYWNNCWFQWFYWCQHLWDAWMQKKQMMNTEFPDCDTWWQMMMQMGYSDCYWQCY\n",
      "> 13\n",
      "STFAWVIYMLYYIYHGLSQMLQGCYMQGHWWCRPWMPYHEECYQALISMDLQWQTFWCCKFCKCKNCEGNIQYCNCWFQWCFYWCQHLWDAWMQKKQMMITEFPDCDTWWQMMMQMGYSDCYWQCY\n",
      "> 14\n",
      "QVQLVESGGGLVKPGGSLRLSCAASGFTFSSYAMSWVRQAPGKGLEWVGVISYGGSTYYADSVKGRFTISRDNSKNTLYLQMNSLRAEDTAVYYCARDGGGGYYGFDYWGQGTLVTVSS\n",
      "> 15\n",
      "STFAWVIYMWYYIYCGLSQMLQGCYCGHWWCRPWMPYHTECYQYLISMDLQWQTFWCCKFCKCKNCEGNIQYCNNCWFQWCFYWCQHLWDWMQKKQMMNTEHPDCDTWWQMMMQMGYSDCYWQCY\n",
      "> 16\n",
      "QVQLVESGGGLVKPGGSLRLSCAASGFTFSSYAMSWVRQAPGKGLEWVGVISYGGSTYYADSVKGRFTISRDNSKNTLYLQMNSLRAEDTAVYYCARDGGGGYYGFDYWGQGTLVTVSS\n",
      "> 17\n",
      "QVQLVESGGGLVKPGGSLRLSCAASGFTFSSYAMSWVRQAPGKGLEWVGVISYGGSTYYADSVKGRFTISRDNSKNTLYLQMNSLRAEDTAVYYCARDRGGSYYGFDYWGQGTLVTVSS\n",
      "> 18\n",
      "QVQLVESGGGLVKPGGSLRLSCAASGFTFSSYAMSWVRQAPGKGLEWVGVISYGGSTYYADSVKGRFTISRDNSKNTLYLQMNSLRAEDTAVYYCARDGGGGYYGFDYWGQGTLVTVSS\n",
      "> 19\n",
      "STFAWWVIYMWYYIYCGLSQMLQGCYMCGHWWCRPWMPYHTECYQALISMDLQWQTFWCCKFCKCKNCWGNIQYCNCWFQWFYWCQHLWDWMQKKQMMNTEFPDCDTWWQMMMQMGYSDCYWQCY\n",
      "> 20\n",
      "STFAWVIYMLYYIYHGLSQMLQGCYQGHWWCRPWMPYHYCYQALISMDLQWQTFWCCKYFCKCKNCEGNIQYCNCWFQWFYWCQHLWDWMQKKQMMITEHPDCDTWWQMMMQMGYSDCYWQCY\n",
      "> 21\n",
      "STFAWVIYMLYYIYHGLSQMLQGCYMCGHWWCRPWMPYHEECYQALISMDLQWQTFWCCKFCKCKNCEGNIQYCNCWFQWCFYWCQHLWDAWMQKKQMQITEHPDCDTWWQMMMQMGYSDCYWQCY\n",
      "> 22\n",
      "STFAWVIYMWYYIYCGLFQMLQGCYMCGHWWCRPWMPYHTYCYQALISMDLQWQTFWCCKFCKCKNCWGNIQYCNCWFQWFYWCQHLWDAWMQKKQMMITEFPDCDTWWQMMMQMGYSDCYWQCY\n",
      "> 23\n",
      "QVQLVESGGGLVKPGGSLRLSCAASGFTFSSYAMSWVRQAPGKGLEWVGVISYGGSTYYADSVKGRFTISRDNSKNTLYLQMNSLRAEDTAVYYCARDGGGGYYGFDYWGQGTLVTVSS\n",
      "> 24\n",
      "QVQLVESGGGLVKPGGSLRLSCAASGFTFSSYAMSWVRQAPGKGLEWVGVISYGGSTYYADSVKGRFTISRDNSKNTLYLQMNSLRAEDTAVYYCARDGGGGYYGFDYWGQGTLVTVSS\n",
      "> 25\n",
      "QVQLVESGGGLVKPGGSLRLSCAASGFTFSSYAMSWVRQAPGKGLEWVGVISYGGSTYYADSVKGRFTISRDNSKNTLYLQMNSLRAEDTAVYYCARDGGGGYYGFDYWGQGTLVTVSS\n",
      "> 26\n",
      "QVQLVESGGGLVKPGGSLRLSCAASGFTFSSYAMSWVRQAPGKGLEWVGVISYGGSTYYADSVKGRFTISRDNSKNTLYLQMNSLRAEDTAVYYCARDGGGGYYGFDYWGQGTLVTVSS\n",
      "> 27\n",
      "QVQLVESGGGLVKPGGSLRLSCAASGFTFSSYAMSWVRQAPGKGLEWVGVISYGGSTYYADSVKGRFTISRDNSKNTLYLQMNSLRAEDTAVYYCARDGGGGYYGFDYWGQGTLVTVSS\n",
      "> 28\n",
      "QVQLVESGGGLVKPGGSLRLSCAASGFTFSSYAMSWVRQAPGKGLEWVGVISYGGSTYYADSVKGRFTISRDNSKNTLYLQMNSLRAEDTAVYYCARDGGGSYGFDYWGQGTLVTVSS\n",
      "> 29\n",
      "STFAWVIYMWYYIYHTLSQMLQGCYMCGHWWCRPWMPYHECYQALISMDLQWQTFWCCKFCKCKNCEGNIQYCNCWFQWCFYWCQHLWDAWMQKKQMQNTEHPDCDTWWQMMMQMGYSDCYWQCY\n",
      "> 30\n",
      "QVQLVESGGGLVKPGESLSLSCAASGFTFSSYAMSWVRQAPGKGLEWVGVISYSGGSTYYADSVKGRFTISRDNSKNTLYLQMNSLRAEDTAVYYCARDGGGSYGFDYWGQGTLVTVSS\n",
      "> 31\n",
      "QVQLVESGGGLVKPGESLSLSCAASGFTFSSYAMSWVRQAPGKGLEWVGVISYSGGSTYYADSVKGRFTISRDNSKNTLYLQMNSLRAEDTAVYYCARDGGGSYGFDYWGQGTLVTVSS\n",
      "> 32\n",
      "QVQLVESGGGLVKPGGSLRLSCAASGFTFSSYAMSWVRQAPGKGLEWVGVISYGGSTYYADSVKGRFTISRDNSKNTLYLQMNSLRAEDTAVYYCARDGGGGYYGFDYWGQGTLVTVSS\n",
      "> 33\n",
      "QVQLVESGGGLVKPGGSLRLSCAASGFTFSSYAMSWVRQAPGKGLEWVGVISYGGSTYYADSVKGRFTISRDNSKNTLYLQMNSLRAEDTAVYYCARDGGGGYYGFDYWGQGTLVTVSS\n",
      "> 34\n",
      "STFAWVIYMWYYIYHGLFQMLQGCYMCGHWWCRPWMPYHTYCYQALISMDLQWQTFWCCKFCKCKNCWGNIQYCNCWFQWFYWCQHLWDWMQKKQMMITEHPDCDTWWQMMMQMGYSDCYWQCY\n",
      "> 35\n",
      "QVQLVESGGGLVKPGGSLRLSCAASGFTFSSYAMSWVRQAPGKGLEWVGVISYSGGSTYYADSVKGRFTISRDNSKNTLYLQMNSLRAEDTAVYYCARDGGGSYYGFDYWGQGTLVTVSS\n",
      "> 36\n",
      "QVQLVESGGGLVKPGGSLRLSCAASGFTFSSYAMSWVRQAPGKGLEWVGVISYGGSTYYADSVKGRFTISRDNSKNTLYLQMNSLRAEDTAVYYCARDGGGGYYGFDYWGQGTLVTVSS\n",
      "> 37\n",
      "STFAWVIYMWYYIYCGLSQMLQGCYMCGHWWCRPWMPYHYCYQALISMDLQWQTFWCCKFCKCKNCWGNIQYCNNCWFQWCFYWCQDLWDWMQKKQMMNTEFPDCDTWWQMMMQMGYSDCYWQCY\n",
      "> 38\n",
      "STFAWWVIYMWYYIYHGLFQMLQGCYMCGHWWCRPWMPYHTECYQALISMDLQWQTFWCCKFKCKNCWGNIQYWGNCWFQWCFYWQQHLWDAWMQKKQMMITEFPDCDTMWQMMMQMGYSDCYWQCY\n",
      "> 39\n",
      "QVQLVESGGGLVKPGGSLRLSCAASGFTFSSYAMSWVRQAPGKGLEWVGVISYSGGSTYYADSVKGRFTISRDNSKNTLYLQMNSLRAEDTAVYYCARDRGGGYYGFDYWGQGTLVTVSS\n",
      "> 40\n",
      "STFAWVIYMWYYIYHGLFQMLQGCYMQGHWWCRPWMPYHTYCYQALISMDLQWQTFWCCKFCKCKNCWGNIQYCNCWFQWFYWCQHLWDWMQKKQMMITEFPDCDTWWQMMMQMGYSDCYWQCY\n",
      "> 41\n",
      "STFAWVIYMLYYIYHTLSQMLQGCYQGHWWCRPWMPYHEECYQALISMDLQWQTFWCCKFCKCKNCWGNIQYCNCWFQWFYWCQHLWDWMHKKQMMNTEHPDCDTMWQMMMQMGYSDCYWQCY\n",
      "> 42\n",
      "STFAWVIYMWYYIYHTLSQMLQGCYCGHWWCRPWMPYHECYQALISMDLQWQTFWCCKFCKCKNCEGNIQYCNCWFQWFYWCQHLWDAWMQKKQMQNTEHPDCDTWWQMMMQMGYSDCYWQCY\n",
      "> 43\n",
      "STFAWVIYMLYYIYHGLSQMLQGCYCGHWWCRPWMPYHTECYQALISMDLQWQTFWCCKFCKCKNCWGNIQYCNNCWFQWFYWCQHLWDWMQKKQMMITEFPDCDTWWQMMMQMGYSDCYWQCY\n",
      "> 44\n",
      "STFAWVIYMLYYIYHGLSQMLQGCYCGHWWCRPWMPYHTECYQALISMDLQWQTFWCCAYFLKCKNCWGNIQYCNCWFQWCFYWCQHLWDAWMHKKQMQNTEHPDCDTWWQMMMQMGYSDCYWQCY\n",
      "> 45\n",
      "QVQLVESGGGLVKPGGSLRLSCAASGFTFSSYAMSWVRQAPGKGLEWVGVISYGGSTYYADSVKGRFTISRDNSKNTLYLQMNSLRAEDTAVYYCARDGGGGYYGFDYWGQGTLVTVSS\n",
      "> 46\n",
      "QVQLVESGGGLVKPGESLSLSCAASGFTFSSYAMSWVRQAPGKGLEWVGVISYSGGSTYYADSVKGRFTISRDNSKNTLYLQMNSLRAEDTAVYYCARDGGGSYGFDYWGQGTLVTVSS\n",
      "> 47\n",
      "STFAWVIYMWYYIYCTLSQMLQGCYCGHWWCRPWMPYHEECYQALISMDLQWQTFWCCAFCKCKNCWGNIQWCNCWFQWCFYWCQHLWDAWMQKKQMQNTEHPDCDTWWQMMMMMGYSDCYWQCY\n",
      "> 48\n",
      "QVQLVESGGGLVQPGGSLRLSCAASGFTFSSYAMSWVRQAPGKGLEWVGVISYGGSTYYADSVKGRVTISRDNSKNTLYLQMNSLRAEDTAVYYCARDGGGSYGFDYWGQGTLVTVSS\n",
      "> 49\n",
      "QVQLVESGGGLVKPGGSLRLSCAASGFTFSSYAMSWVRQAPGKGLEWVGRISYGGSTYYADSVKGRFTISRDNSKNTLYLQMNSLRAEDTAVYYCARDLGYYYGFDYWGQGTLVTVSS\n",
      "> 50\n",
      "QVQLVESGGGLVKPGGSLRLSCAASGFTFSSYAMSWVRQAPGKGLEWVGVISYGGSTYYADSVKGRFTISRDNSKNTLYLQMNSLRAEDTAVYYCARDGGGGYYGFDYWGQGTLVTVSS\n",
      "> 51\n",
      "STFAWVIYMLYYIYHGLFQMLQGCYMCGHWWCRPWIMPYHYCYQYLISMDLQWQTFWCCKFKCKNCWGWIQHWNNCWFQWFYWCQHLWDWMHKKQMMITEHPDCDTWWQMMMQMGYSDCYWQCY\n",
      "> 52\n",
      "STFAWVIYMLYYIYHGLSQMLQGCYCGHWWCRPWMPYHEECYQALISMDLQWQTFWCCKFCKCKNCEGNIQYCNPCWFQWCFYWCQHLWDAWMHKKQMQNTEHPDCDTWWQMMMQMGYSDCYWQCY\n",
      "> 53\n",
      "QVQLVESGGGLVKPGGSLRLSCAASGFTFSSYAMSWVRQAPGKGLEWVGRISYGGSTYYADSVKGRFTISRDNSKNTLYLQMNSLRAEDTAVYYCARDLGYYYGFDYWGQGTLVTVSS\n",
      "> 54\n",
      "STFAWVIYMWYYIYHGLSQMLQGCYMQGHWWCRPWMPYHEECYQALISMDLQWQTFWCCKFCKCKNCWGNIQYCNCWFQWCFYWCQHLWDAWMQKKQMQITEHPDCDTWWQMMMQMGYSDCYWQCY\n",
      "> 55\n",
      "STFAWWVIYMLYYIYCGLSQMLQGCYCGHWWCRPWMPYHTECYQALISMDLQWQTFWCCKFCKCKNCEGNIQYCNCWFQWCFYWCQHLWDWMQKKQMMNTEHPDCDTWWQMMMQMGYSDCYWQCY\n",
      "> 56\n",
      "QVQLVESGGGLVKPGGSLRLSCAASGFTFSSYAMSWVRQAPGKGLEWVGVISYGGSTYYADSVKGRFTISRDNSKNTLYLQMNSLRAEDTAVYYCARDGGGGYYGFDYWGQGTLVTVSS\n",
      "> 57\n",
      "STFAWWVIYMLYYIYCGLSQMLQGCYMCGHWWCRPWMPYHTECYQYLISMDLQWQTFWCCKFCKCKNCEGNIQYCNCWFQWFYWCQHLWDAWMQKKQMMNTEFPDCDTWWQMMMQMGYSDCYWQCY\n",
      "> 58\n",
      "STFAWWVIYMLYYIYHTLSQMLQGCYMCGHWWCRPWMPYHEYCYQYLIFMDLQWQTFWCCKFCKCKNCEGNIQYWNCWFQWFYWCQHLWDWMQKKQMMITEHPDCDTMWQMMMQMGYSDCYWQCY\n",
      "> 59\n",
      "QVQLVESGGGLVKPGGSLRLSCAASGFTFSSYAMSWVRQAPGKGLEWVGVISYGGSTYYADSVKGRFTISRDNSKNTLYLQMNSLRAEDTAVYYCARDGGGGYYGFDYWGQGTLVTVSS\n",
      "> 60\n",
      "QVQLVESGGGLVKPGGSLRLSCAASGFTFSSYAMSWVRQAPGKGLEWVGVISYGGSTYYADSVKGRFTISRDNSKNTLYLQMNSLRAEDTAVYYCARDGGGGYYGFDYWGQGTLVTVSS\n",
      "> 61\n",
      "QVQLVESGGGLVKPGGSLRLSCAASGFTFSSYAMSWVRQAPGKGLEWVGVISYGGSTYYADSVKGRFTISRDNSKNTLYLQMNSLRAEDTAVYYCARDGGGGYYGFDYWGQGTLVTVSS\n",
      "> 62\n",
      "STFAWWVIYMWYYIYHGLSQMLQGCYMQQHWWCRPWIMPYHEECYQALISMDLQWQTFWCCKFKCKNCWGNIQYCNCWFQWFYWCQDLWDAWMQKKQMMITEHPDCDTMWQMMMQMGYSDCYWQCY\n",
      "> 63\n",
      "STFAWVIYMLYYIYCGLSQMLQGCYCGHWWCRPWMPYHTECYQALISMDLQWQTFWCCKFCKCKNCWGNIQYCNCWFQWCFYWCQHLWDAWMQKKQMQNTEHPDCDTWWQMMMQMGYSDCYWQCY\n",
      "> 64\n",
      "STFAWVIYMWYYIYHGLSQMLQGCYMQGHWWCRPWIMPYHTYCYHALIFMDLQWQTFWCCKFCKCLNCEGNIQYCNCWFQWFYWCQHLWDWMQKKQMMNTEFPDCDTMWQMMMQMGYSDCYWQCY\n",
      "> 65\n",
      "STFAWVIYMLYYIYHGLSQMLQGCYMQGHWWCRPWIMPYHEYCYHALISMDLQWQTFWCCKFCKCLNCEGNIQYCNCWFQWFYWCQHLWDAWMQKKQMMITEHPDCDTMWQMMMQMGYSDCYWQCY\n",
      "> 66\n",
      "QVQHVESGHGLSQPGGSLRLSCAASGYTISSVGWSPVRQSPMKGVEWVGYSSDYCGGYIFCNPDFGSRVFISKDNPKMTAYLKLSSPKEADTYMYYCAKMLWYFPPCHYIYYRCMAIWGQGILVAFSS\n",
      "> 67\n",
      "STFAWVIYMWYYIYCGLSQMLQGCYMCGHWWCRPWMPYHYCYQALISMDLQWQTFWCCKFCKCKNCEGNIQYCNCWFQWFYWCQHLWDAWMQKKQMQNTEHPDCDTWWQMMMQMGYSDCYWQCY\n",
      "> 68\n",
      "QVQLVESGGGLVKPGGSLRLSCAASGFTFSSYAMSWVRQAPGKGLEWVGVISYGGSTYYADSVKGRFTISRDNSKNTLYLQMNSLRAEDTAVYYCARDGGGGYYGFDYWGQGTLVTVSS\n",
      "> 69\n",
      "QVQLVESGGGLVKPGGSLRLSCAASGFTFSSYAMSWVRQAPGKGLEWVGVISYGGSTYYADSVKGRFTISRDNSKNTLYLQMNSLRAEDTAVYYCARDGGGGYYGFDYWGQGTLVTVSS\n",
      "> 70\n",
      "STFAWVIYMWYYIYCGLFQMLQGCYMQGHWWCRPWMPYHTYCYQALISMDLQWQTFWCCKFCKCKNCWGNIQYCNCWFQWFYWCQHLWDAWMQKKQMMNTEHPDCDTWWQMMMQMGYSDCYWQCY\n",
      "> 71\n",
      "STFAWWVIYMLYYIYCGLSQMLQGCYMCGHWWCRPWMPYHTECYQALISMDLQWQTFWCCKFCKCKNCWGNIQYCNCWFQWCFYWCQHLWDAWMQKKQMMNTEHPDCDTWWQMMMQMGYSDCYWQCY\n",
      "> 72\n",
      "QVQLVESGGGLVKPGGSLRLSCAASGFTFSSYAMSWVRQAPGKGLEWVGVISYGGSTYYADSVKGRFTISRDNSKNTLYLQMNSLRAEDTAVYYCARDGGGGYYGFDYWGQGTLVTVSS\n",
      "> 73\n",
      "STFAWVIYMWYYIYHGLSQMLQGCYMCGHWWCRPWMPYHEECYQALISMDLQWQTFWCCKFCKCKNCEGNIQYCNCWFQWCFYWCQHLWDAWMQKKQMMNTEHPDCDTWWQMMMQMGYSDCYWQCY\n",
      "> 74\n",
      "QVQLVESGGGLVKPGESLSLSCAASGFTFSSYAMSWVRQAPGKGLEWVGVISYSGGSTYYADSVKGRFTISRDNSKNTLYLQMNSLRAEDTAVYYCARDGGGSYGFDYWGQGTLVTVSS\n",
      "> 75\n",
      "QVQLVESGGGLVKPGESLSLSCAASGFTFSSYAMSWVRQAPGKGLEWVGVISYSGGSTYYADSVKGRFTISRDNSKNTLYLQMNSLRAEDTAVYYCARDGGGSYGFDYWGQGTLVTVSS\n",
      "> 76\n",
      "STFAWVIYMLYYIYCTLSQMLQGCYCGHWWYRPWMPYHECYQALISMDLQWQTFWCCKYFCKCKNCEGNIQYCNPCWFQWCFYWCQHLWDGWMHKKQMQNTEHPDCDTWWQMMMQMGYSDCYWQCY\n",
      "> 77\n",
      "STFAWVIYMWYYIYHGLFQMLQGCYMQGHWWCRPWMPYHTYCYQALISMDLQWQTFWCCKFCKCLNCWGNIQYCNCWFQWFYWCQHLWDAWMQKKQMMNTEHPDCDTWWQMMMQMGYSDCYWQCY\n",
      "> 78\n",
      "STFAWVIYMLYYIYCTLSQMLQGCYCGHWWCRPWMPYHECYQALISMDLQWQTFWCCKYFCKCKNCEGNIQYCNCWFQWCFYWCQHLWDGWMHKKQMQNTEHPDCDTWWQMMMQMGYSDCYWQCY\n",
      "> 79\n",
      "STFAWVIYMWYYIYHGLSQMLQGCYMQQHWWCRPWMPYHTYCYQALISMDLQWQTFWCCKFCNCKNCEGNIQYCNCWFQWFYWCQDLWDWMQKKQMMNTEHPDCDTMWQMMMQMGYSDCYWQCY\n",
      "> 80\n",
      "STFAWVIYMWYYIYHGLSQMLQGCYMCGHWWCRPWMPYHECYQALISMDLQWQTFWCCKFCKCKNCEGNIQYCNPCWFQWFYWCQHLWDWMQKKQMQNTEHPDCDTWWQMMMQMGYSDCYWQCY\n",
      "> 81\n",
      "QVQLVESGGGLVKPGGSLRLSCAASGFTFSSYAMSWVRQAPGKGLEWVGVISYGGSTYYADSVKGRFTISRDNSKNTLYLQMNSLRAEDTAVYYCARDGGGGYYGFDYWGQGTLVTVSS\n",
      "> 82\n",
      "QVQLVESGGGLVKPGESLSLSCAASGFTFSSYAMSWVRQAPGKGLEWVGVISYSGGSTYYADSVKGRFTISRDNSKNTLYLQMNSLRAEDTAVYYCARDGGGSYGFDYWGQGTLVTVSS\n",
      "> 83\n",
      "QVQLVESGGGLVKPGGSLRLSCAASGFTFSSYAMSWVRQAPGKGLEWVGVISYGGSTYYADSVKGRFTISRDNSKNTLYLQMNSLRAEDTAVYYCARDGGGGYYGFDYWGQGTLVTVSS\n",
      "> 84\n",
      "STFAWVIYMLYYIYCGLSQMLQGCYMCGHWWCRPWMPYHEECYQALISMDLQWQTFWCCKFCKCKNCWGNIQYCNCWFQWCFYWCQHLWDAWMQKKQMMNTEHPDCDTWWQMMMQMGYSDCYWQCY\n",
      "> 85\n",
      "STFAWVIYMLYYIYHTLSQMLQGCYCGHWWCRPWMPYHECYQALISMDLQWQTFWCCKFCKCKNCEGNIQYCPCWFQWCFYWCQHLWDAWMQKKQMQNTEHPDCDTWWQMMMQMGYSDCYWQCY\n",
      "> 86\n",
      "STFAWVIYMWYYIYCGLFQMLQGCYMCGHWWCRPWMPYHYCYQALISMDLQWQTFWCCKFCKCKNCWGNIQYCNNCWFQWFYWCQDLWDAWMQKKQMMNTEFPDCDTWWQMMMQMGYSDCYWQCY\n",
      "> 87\n",
      "QVQLVESGGGLVKPGESLSLSCAASGFTFSSYAMSWVRQAPGKGLEWVGVISYSGGSTYYADSVKGRFTISRDNSKNTLYLQMNSLRAEDTAVYYCARDGGGSYGFDYWGQGTLVTVSS\n",
      "> 88\n",
      "QVQLVESGGGLVKPGGSLRLSCAASGFTFSSYAMSWVRQAPGKGLEWVGVISYSGGSTYYADSVKGRVTISRDNSKNTLYLQMNSLRAEDTAVYYCARDGGGSYGFDYWGQGTLVTVSS\n",
      "> 89\n",
      "QVQLVESGGGLVKPGGSLRLSCAASGFTFSSYAMSWVRQAPGKGLEWVGVISYGGSTYYADSVKGRFTISRDNSKNTLYLQMNSLRAEDTAVYYCARDGGGGYYGFDYWGQGTLVTVSS\n",
      "> 90\n",
      "QVQLVESGGGLVKPGGSLRLSCAASGFTFSSYAMSWVRQAPGKGLEWVGVISYGGSTYYADSVKGRFTISRDNSKNTLYLQMNSLRAEDTAVYYCARDGGGGYYGFDYWGQGTLVTVSS\n",
      "> 91\n",
      "STFAWWVIYMLYYIYHTLSQMLQGCYMCGHWWCRPWMPYHEECYQALISMDLQWQTFWCCKYFCKCKNCEGNIQYCPCWFQWCFYWCQHLWDAWMHKKQMQITEHPDCDTWWQMMMQMGYSDCYWQCY\n",
      "> 92\n",
      "STFAWWVIYMWYYIYHGLSQMLQGCYCGHWWYRPWMPYHEECYQALISMDLQWQTFWCCKFCKCKNCEGNIQYCNCWFQWCFYWCQHLWDAWMQKKQMMITEHPDCDTWWQMMMQMGYSDCYWQCY\n",
      "> 93\n",
      "STFAWVIYMLYYIYHGLFQMLQGCYQGHWWCRPWMPYHTYCYQALISMDLQWQTFWCCKFKCKNCEGNIQHWNCWFQWFYWCQHLWDWMQKKQMMITEHPDCDTMWQMMMQMGYSDCYWQCY\n",
      "> 94\n",
      "STFAWVIYMWYYIYCGLSQMLQGCYMQGHWWCRPWMPYHEECYHALISMDLQWQTFWCCKFCNCKNCWGNIQWWNCWFQWCFYWCQHLWDAWMQKKQMMNTEFPDCDTWWQMMMQMGYSDCYWQCY\n",
      "> 95\n",
      "STFAWWVIYMLYYIYCGLFQMLQGCYCGHWWCRPWMPYHEECYQYLISMDLQWQTFWCCKFCKCKNCWGNIQYCNCWFQWCFYWQQHLWDAWMMQKKQMMNTEHPDCDTWWQMMMQMGYSDCYWQCY\n",
      "> 96\n",
      "STFAWWVIYMLYYIYHTLSQMLQGCYCGHWWCRPWMPYHECYQALISMDLQWQTFWCCKYFCKCKNCEGNIQYCNCWFQWCFYWCQHLWDWMHKKQMQNTEHPDCDTWWQMMMQMGYSDCYWQCY\n",
      "> 97\n",
      "STFAWWVIYMWYYIYCGLSQMLQGCYMCGHWWCRPWMPYHTYCYQYLISMDLQWQTFWCCKFCKCKNCEGNIQYCGNCWFQWFYWCQDLWDGWMQKKQMMNTEFPDCDTMWQMMMQMGYSDCYWQCY\n",
      "> 98\n",
      "QVQLVESGGGLVKPGGSLRLSCAASGFTFSSYAMSWVRQAPGKGLEWVGVISYGGSTYYADSVKGRFTISRDNSKNTLYLQMNSLRAEDTAVYYCARDGGGGYYGFDYWGQGTLVTVSS\n",
      "> 99\n",
      "STFAWWVIYMLYYIYCGLFQMLQGCYMCGHWWCRPWMPYHTECYQALISMDLQWQTFWCCKFCKCKNCEGNIQYCNCWFQWCFYWCQHLWDAWMQKKQMMNTEHPDCDTWWQMMMQMGYSDCYWQCY\n"
     ]
    }
   ],
   "source": [
    "for i, li in enumerate(l):\n",
    "    print('>', i)\n",
    "    print(li.replace('-', ''))"
   ]
  },
  {
   "cell_type": "code",
   "execution_count": null,
   "metadata": {},
   "outputs": [],
   "source": []
  },
  {
   "cell_type": "code",
   "execution_count": null,
   "metadata": {},
   "outputs": [],
   "source": []
  },
  {
   "cell_type": "code",
   "execution_count": null,
   "metadata": {},
   "outputs": [],
   "source": []
  }
 ],
 "metadata": {
  "kernelspec": {
   "display_name": "Python 3",
   "language": "python",
   "name": "python3"
  },
  "language_info": {
   "codemirror_mode": {
    "name": "ipython",
    "version": 3
   },
   "file_extension": ".py",
   "mimetype": "text/x-python",
   "name": "python",
   "nbconvert_exporter": "python",
   "pygments_lexer": "ipython3",
   "version": "3.6.3"
  }
 },
 "nbformat": 4,
 "nbformat_minor": 2
}
